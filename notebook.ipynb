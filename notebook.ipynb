{
 "cells": [
  {
   "cell_type": "markdown",
   "metadata": {},
   "source": [
    "# Importing Libraries"
   ]
  },
  {
   "cell_type": "code",
   "execution_count": 7,
   "metadata": {},
   "outputs": [],
   "source": [
    "import pandas as pd\n",
    "import numpy as np\n",
    "import matplotlib.pyplot as plt\n",
    "import seaborn as sns\n",
    "\n",
    "from sklearn.feature_extraction.text import CountVectorizer, TfidfVectorizer\n",
    "from sklearn.model_selection import train_test_split\n",
    "from sklearn.metrics import accuracy_score,confusion_matrix,classification_report\n",
    "from sklearn.pipeline import Pipeline\n",
    "from sklearn.ensemble import RandomForestClassifier\n",
    "from xgboost import XGBClassifier\n",
    "\n",
    "import os\n",
    "import joblib"
   ]
  },
  {
   "cell_type": "code",
   "execution_count": 8,
   "metadata": {},
   "outputs": [],
   "source": [
    "path = os.path.join(os.getcwd(), 'data', 'movie_review.csv')\n",
    "\n",
    "data = pd.read_csv(path)"
   ]
  },
  {
   "cell_type": "markdown",
   "metadata": {},
   "source": [
    "# Data Wrangling"
   ]
  },
  {
   "cell_type": "code",
   "execution_count": 9,
   "metadata": {},
   "outputs": [
    {
     "data": {
      "application/vnd.microsoft.datawrangler.viewer.v0+json": {
       "columns": [
        {
         "name": "index",
         "rawType": "int64",
         "type": "integer"
        },
        {
         "name": "text",
         "rawType": "object",
         "type": "string"
        },
        {
         "name": "label",
         "rawType": "int64",
         "type": "integer"
        }
       ],
       "conversionMethod": "pd.DataFrame",
       "ref": "ebf7ef56-dad5-476b-810d-5b4084a064fa",
       "rows": [
        [
         "0",
         "I grew up (b. 1965) watching and loving the Thunderbirds. All my mates at school watched. We played \"Thunderbirds\" before school, during lunch and after school. We all wanted to be Virgil or Scott. No one wanted to be Alan. Counting down from 5 became an art form. I took my children to see the movie hoping they would get a glimpse of what I loved as a child. How bitterly disappointing. The only high point was the snappy theme tune. Not that it could compare with the original score of the Thunderbirds. Thankfully early Saturday mornings one television channel still plays reruns of the series Gerry Anderson and his wife created. Jonatha Frakes should hand in his directors chair, his version was completely hopeless. A waste of film. Utter rubbish. A CGI remake may be acceptable but replacing marionettes with Homo sapiens subsp. sapiens was a huge error of judgment.",
         "0"
        ],
        [
         "1",
         "When I put this movie in my DVD player, and sat down with a coke and some chips, I had some expectations. I was hoping that this movie would contain some of the strong-points of the first movie: Awsome animation, good flowing story, excellent voice cast, funny comedy and a kick-ass soundtrack. But, to my disappointment, not any of this is to be found in Atlantis: Milo's Return. Had I read some reviews first, I might not have been so let down. The following paragraph will be directed to those who have seen the first movie, and who enjoyed it primarily for the points mentioned.<br /><br />When the first scene appears, your in for a shock if you just picked Atlantis: Milo's Return from the display-case at your local videoshop (or whatever), and had the expectations I had. The music feels as a bad imitation of the first movie, and the voice cast has been replaced by a not so fitting one. (With the exception of a few characters, like the voice of Sweet). The actual drawings isnt that bad, but the animation in particular is a sad sight. The storyline is also pretty weak, as its more like three episodes of Schooby-Doo than the single adventurous story we got the last time. But dont misunderstand, it's not very good Schooby-Doo episodes. I didnt laugh a single time, although I might have sniggered once or twice.<br /><br />To the audience who haven't seen the first movie, or don't especially care for a similar sequel, here is a fast review of this movie as a stand-alone product: If you liked schooby-doo, you might like this movie. If you didn't, you could still enjoy this movie if you have nothing else to do. And I suspect it might be a good kids movie, but I wouldn't know. It might have been better if Milo's Return had been a three-episode series on a cartoon channel, or on breakfast TV.",
         "0"
        ],
        [
         "2",
         "Why do people who do not know what a particular time in the past was like feel the need to try to define that time for others? Replace Woodstock with the Civil War and the Apollo moon-landing with the Titanic sinking and you've got as realistic a flick as this formulaic soap opera populated entirely by low-life trash. Is this what kids who were too young to be allowed to go to Woodstock and who failed grade school composition do? \"I'll show those old meanies, I'll put out my own movie and prove that you don't have to know nuttin about your topic to still make money!\" Yeah, we already know that. The one thing watching this film did for me was to give me a little insight into underclass thinking. The next time I see a slut in a bar who looks like Diane Lane, I'm running the other way. It's child abuse to let parents that worthless raise kids. It's audience abuse to simply stick Woodstock and the moonlanding into a flick as if that ipso facto means the film portrays 1969.",
         "0"
        ],
        [
         "3",
         "Even though I have great interest in Biblical movies, I was bored to death every minute of the movie. Everything is bad. The movie is too long, the acting is most of the time a Joke and the script is horrible. I did not get the point in mixing the story about Abraham and Noah together. So if you value your time and sanity stay away from this horror.",
         "0"
        ],
        [
         "4",
         "Im a die hard Dads Army fan and nothing will ever change that. I got all the tapes, DVD's and audiobooks and every time i watch/listen to them its brand new. <br /><br />The film. The film is a re run of certain episodes, Man and the hour, Enemy within the gates, Battle School and numerous others with a different edge. Introduction of a new General instead of Captain Square was a brilliant move - especially when he wouldn't cash the cheque (something that is rarely done now).<br /><br />It follows through the early years of getting equipment and uniforms, starting up and training. All in all, its a great film for a boring Sunday afternoon. <br /><br />Two draw backs. One is the Germans bogus dodgy accents (come one, Germans cant pronounced the letter \"W\" like us) and Two The casting of Liz Frazer instead of the familiar Janet Davis. I like Liz in other films like the carry ons but she doesn't carry it correctly in this and Janet Davis would have been the better choice.",
         "1"
        ]
       ],
       "shape": {
        "columns": 2,
        "rows": 5
       }
      },
      "text/html": [
       "<div>\n",
       "<style scoped>\n",
       "    .dataframe tbody tr th:only-of-type {\n",
       "        vertical-align: middle;\n",
       "    }\n",
       "\n",
       "    .dataframe tbody tr th {\n",
       "        vertical-align: top;\n",
       "    }\n",
       "\n",
       "    .dataframe thead th {\n",
       "        text-align: right;\n",
       "    }\n",
       "</style>\n",
       "<table border=\"1\" class=\"dataframe\">\n",
       "  <thead>\n",
       "    <tr style=\"text-align: right;\">\n",
       "      <th></th>\n",
       "      <th>text</th>\n",
       "      <th>label</th>\n",
       "    </tr>\n",
       "  </thead>\n",
       "  <tbody>\n",
       "    <tr>\n",
       "      <th>0</th>\n",
       "      <td>I grew up (b. 1965) watching and loving the Th...</td>\n",
       "      <td>0</td>\n",
       "    </tr>\n",
       "    <tr>\n",
       "      <th>1</th>\n",
       "      <td>When I put this movie in my DVD player, and sa...</td>\n",
       "      <td>0</td>\n",
       "    </tr>\n",
       "    <tr>\n",
       "      <th>2</th>\n",
       "      <td>Why do people who do not know what a particula...</td>\n",
       "      <td>0</td>\n",
       "    </tr>\n",
       "    <tr>\n",
       "      <th>3</th>\n",
       "      <td>Even though I have great interest in Biblical ...</td>\n",
       "      <td>0</td>\n",
       "    </tr>\n",
       "    <tr>\n",
       "      <th>4</th>\n",
       "      <td>Im a die hard Dads Army fan and nothing will e...</td>\n",
       "      <td>1</td>\n",
       "    </tr>\n",
       "  </tbody>\n",
       "</table>\n",
       "</div>"
      ],
      "text/plain": [
       "                                                text  label\n",
       "0  I grew up (b. 1965) watching and loving the Th...      0\n",
       "1  When I put this movie in my DVD player, and sa...      0\n",
       "2  Why do people who do not know what a particula...      0\n",
       "3  Even though I have great interest in Biblical ...      0\n",
       "4  Im a die hard Dads Army fan and nothing will e...      1"
      ]
     },
     "execution_count": 9,
     "metadata": {},
     "output_type": "execute_result"
    }
   ],
   "source": [
    "data.head()"
   ]
  },
  {
   "cell_type": "code",
   "execution_count": 10,
   "metadata": {},
   "outputs": [
    {
     "name": "stdout",
     "output_type": "stream",
     "text": [
      "<class 'pandas.core.frame.DataFrame'>\n",
      "RangeIndex: 40000 entries, 0 to 39999\n",
      "Data columns (total 2 columns):\n",
      " #   Column  Non-Null Count  Dtype \n",
      "---  ------  --------------  ----- \n",
      " 0   text    40000 non-null  object\n",
      " 1   label   40000 non-null  int64 \n",
      "dtypes: int64(1), object(1)\n",
      "memory usage: 625.1+ KB\n"
     ]
    }
   ],
   "source": [
    "data.info()"
   ]
  },
  {
   "cell_type": "code",
   "execution_count": 11,
   "metadata": {},
   "outputs": [
    {
     "data": {
      "text/plain": [
       "text     0\n",
       "label    0\n",
       "dtype: int64"
      ]
     },
     "execution_count": 11,
     "metadata": {},
     "output_type": "execute_result"
    }
   ],
   "source": [
    "data.isna().sum()"
   ]
  },
  {
   "cell_type": "code",
   "execution_count": 12,
   "metadata": {},
   "outputs": [
    {
     "data": {
      "text/plain": [
       "277"
      ]
     },
     "execution_count": 12,
     "metadata": {},
     "output_type": "execute_result"
    }
   ],
   "source": [
    "data.duplicated().sum()"
   ]
  },
  {
   "cell_type": "code",
   "execution_count": 13,
   "metadata": {},
   "outputs": [
    {
     "data": {
      "application/vnd.microsoft.datawrangler.viewer.v0+json": {
       "columns": [
        {
         "name": "index",
         "rawType": "int64",
         "type": "integer"
        },
        {
         "name": "text",
         "rawType": "object",
         "type": "string"
        },
        {
         "name": "label",
         "rawType": "int64",
         "type": "integer"
        }
       ],
       "conversionMethod": "pd.DataFrame",
       "ref": "6754d5f0-11c1-4726-a446-d62ff42d7bdf",
       "rows": [
        [
         "202",
         "\"Go Fish\" garnered Rose Troche rightly or wrongly the reputation of a film maker with much promise.<br /><br />Its then hard to understand how she could turn out a movie made up of stereotypes that one associates with inferior sitcoms. The entire film rings hollow. I cringed the whole way through.<br /><br />Its supposed to be a look into nineties human sexuality. Well not much more here to be learned than from \"In and Out\". By now most of us actually do know, that there are men who are sexually attracted to women and there men who are sexually attracted to men and there are even men sexually attracted to both sexes. <br /><br />Seldom has this revelation been portrayed on the screen with so little wit and style.<br /><br />Pathetic.",
         "0"
        ],
        [
         "39214",
         "\"Go Fish\" garnered Rose Troche rightly or wrongly the reputation of a film maker with much promise.<br /><br />Its then hard to understand how she could turn out a movie made up of stereotypes that one associates with inferior sitcoms. The entire film rings hollow. I cringed the whole way through.<br /><br />Its supposed to be a look into nineties human sexuality. Well not much more here to be learned than from \"In and Out\". By now most of us actually do know, that there are men who are sexually attracted to women and there men who are sexually attracted to men and there are even men sexually attracted to both sexes. <br /><br />Seldom has this revelation been portrayed on the screen with so little wit and style.<br /><br />Pathetic.",
         "0"
        ],
        [
         "14788",
         "\"Three\" is a seriously dumb shipwreck movie. Masquerading as a psychological thriller, it's closest relative is the monumentally superior \"Dead Calm\" (also featuring Billy Zane). \"Dead Calm\" provided well drawn characters to root for in the form of Sam Neil and Nicole Kidman's grieving parents attempting to re-define their relationship on an ocean cruise. They end up being terrorised by Zane's adrift psycho-killer. It provided sharp, increasingly ratcheted suspense, a scary feeling of claustrophobia in open seas as the cat and mouse game of life and death unfolded.<br /><br />\"Three\" suffers from poorly drawn characterisation (the audience doesn't care what happens to any of them), a stupid and unnecessary voodoo plot device, a total lack of suspense or excitement and some thudding, hammy performances from the principal players. Zane in particular goes way over the top in an irritatingly mannered fashion. In \"Dead Calm\" he was menacing, wired and seething with barely controlled sexual violence. Here he is bombastic, petulant slimy, and unravelled. And where does he get his seemingly inexhaustible supply of dry cigarettes and cigars? And how come his lighter stays full of juice for over a year? Ms Brook is very picturesque, stunningly pretty, but both her chest and rear appear to have been wildly over-inflated by some sort of life-raft pump. They do, however, succeed in acting with more skill and conviction than the rest of her. Dramatic actress, in the purest sense of the term, she is not. The guy playing the voodoo-hexed Manuel, the third component of this sorry triangle, could have been replaced by a lump of driftwood - no one would notice. In fact, judging by his complete lack of ability to deliver dialogue in any meaningful or dynamic way, driftwood represents a potential improvement in the casting stakes (excuse pun).<br /><br />Plus sides: the scenery is nice and the cinematography (above and below the water) is credible.<br /><br />I'm guessing this had a very limited (if any) theatrical release or went straight to rental and retail DVD. The reason for this is it's not very good. If you want something decent along these lines, get \"Dead Calm.\" It was made by people who knew a bit about cinema.",
         "0"
        ],
        [
         "20957",
         "\"Three\" is a seriously dumb shipwreck movie. Masquerading as a psychological thriller, it's closest relative is the monumentally superior \"Dead Calm\" (also featuring Billy Zane). \"Dead Calm\" provided well drawn characters to root for in the form of Sam Neil and Nicole Kidman's grieving parents attempting to re-define their relationship on an ocean cruise. They end up being terrorised by Zane's adrift psycho-killer. It provided sharp, increasingly ratcheted suspense, a scary feeling of claustrophobia in open seas as the cat and mouse game of life and death unfolded.<br /><br />\"Three\" suffers from poorly drawn characterisation (the audience doesn't care what happens to any of them), a stupid and unnecessary voodoo plot device, a total lack of suspense or excitement and some thudding, hammy performances from the principal players. Zane in particular goes way over the top in an irritatingly mannered fashion. In \"Dead Calm\" he was menacing, wired and seething with barely controlled sexual violence. Here he is bombastic, petulant slimy, and unravelled. And where does he get his seemingly inexhaustible supply of dry cigarettes and cigars? And how come his lighter stays full of juice for over a year? Ms Brook is very picturesque, stunningly pretty, but both her chest and rear appear to have been wildly over-inflated by some sort of life-raft pump. They do, however, succeed in acting with more skill and conviction than the rest of her. Dramatic actress, in the purest sense of the term, she is not. The guy playing the voodoo-hexed Manuel, the third component of this sorry triangle, could have been replaced by a lump of driftwood - no one would notice. In fact, judging by his complete lack of ability to deliver dialogue in any meaningful or dynamic way, driftwood represents a potential improvement in the casting stakes (excuse pun).<br /><br />Plus sides: the scenery is nice and the cinematography (above and below the water) is credible.<br /><br />I'm guessing this had a very limited (if any) theatrical release or went straight to rental and retail DVD. The reason for this is it's not very good. If you want something decent along these lines, get \"Dead Calm.\" It was made by people who knew a bit about cinema.",
         "0"
        ],
        [
         "23393",
         "\"Witchery\" might just be the most incoherent and lamentably scripted horror movie of the 80's but, luckily enough, it has a few compensating qualities like fantastic gore effects, an exhilarating musical score and some terrific casting choices. Honestly the screenplay doesn't make one iota of sense, but who cares when Linda Blair (with an exploded hairstyle) portrays yet another girl possessed by evil powers and David Hasselhof depicts a hunky photographer (who can't seem to get laid) in a movie that constantly features bloody voodoo, sewn-shut lips, upside down crucifixions, vicious burnings and an overused but genuinely creepy tune. Eight random people are gathered together on an abandoned vacation resort island off the coast of Massachusetts. The young couple is there to investigate the place's dark history; the dysfunctional family (with a pregnant Linda Blair even though nobody seems to bother about who the father is and what his whereabouts are) considers re-opening the hotel and the yummy female architect simply tagged along for casual sex. They're forced to stay the night in the ramshackle hotel and then suddenly the previous landlady  an aging actress or something who always dresses in black  starts taking them out in various engrossing ways. Everything is somehow related to the intro sequence showing a woman accused of witchery jump out of a window. Anyway, the plot is definitely of minor importance in an Italian horror franchise that started as an unofficial spin-off of \"The Evil Dead\". The atmosphere is occasionally unsettling and the make-up effects are undoubtedly the most superior element of the entire film. There's something supremely morbid and unsettling about staring at a defenseless woman hanging upside down a chimney and waiting to get fried.",
         "0"
        ],
        [
         "34900",
         "\"Witchery\" might just be the most incoherent and lamentably scripted horror movie of the 80's but, luckily enough, it has a few compensating qualities like fantastic gore effects, an exhilarating musical score and some terrific casting choices. Honestly the screenplay doesn't make one iota of sense, but who cares when Linda Blair (with an exploded hairstyle) portrays yet another girl possessed by evil powers and David Hasselhof depicts a hunky photographer (who can't seem to get laid) in a movie that constantly features bloody voodoo, sewn-shut lips, upside down crucifixions, vicious burnings and an overused but genuinely creepy tune. Eight random people are gathered together on an abandoned vacation resort island off the coast of Massachusetts. The young couple is there to investigate the place's dark history; the dysfunctional family (with a pregnant Linda Blair even though nobody seems to bother about who the father is and what his whereabouts are) considers re-opening the hotel and the yummy female architect simply tagged along for casual sex. They're forced to stay the night in the ramshackle hotel and then suddenly the previous landlady  an aging actress or something who always dresses in black  starts taking them out in various engrossing ways. Everything is somehow related to the intro sequence showing a woman accused of witchery jump out of a window. Anyway, the plot is definitely of minor importance in an Italian horror franchise that started as an unofficial spin-off of \"The Evil Dead\". The atmosphere is occasionally unsettling and the make-up effects are undoubtedly the most superior element of the entire film. There's something supremely morbid and unsettling about staring at a defenseless woman hanging upside down a chimney and waiting to get fried.",
         "0"
        ],
        [
         "339",
         "(Spoilers)<br /><br />Oh sure it's based on Moby Dick. Totally obsessed and it destroy's him. It's a total folly. The movie starts off rather well, but by the end of the film, everyone else is destroyed and the main star's mind is a blank.<br /><br />The supposed half sister is never convincing. Some very poor lighting effects. Music is interesting. But little else. It took me over a month to finally finish the darn thing. I suppose if you like Being John Malkovich, you might like this. But where as BJM was a great movie that I just didn't want to watch again, Pola X is a movie I just hate to high hell. The only possible excitement in the film is the gratuatious incest sexual scene towards the end of the film. (Hopefully yer not thinking of Catherine either.)<br /><br />This movie is severely boring, depressing, and poorly directed. Not highly recommended. If if you like french movies. (go watch Crimson Rivers instead)<br /><br />4/10<br /><br />Quality: 5/10 Entertainment: 1/10 Replayable: 0/10",
         "0"
        ],
        [
         "39508",
         "(Spoilers)<br /><br />Oh sure it's based on Moby Dick. Totally obsessed and it destroy's him. It's a total folly. The movie starts off rather well, but by the end of the film, everyone else is destroyed and the main star's mind is a blank.<br /><br />The supposed half sister is never convincing. Some very poor lighting effects. Music is interesting. But little else. It took me over a month to finally finish the darn thing. I suppose if you like Being John Malkovich, you might like this. But where as BJM was a great movie that I just didn't want to watch again, Pola X is a movie I just hate to high hell. The only possible excitement in the film is the gratuatious incest sexual scene towards the end of the film. (Hopefully yer not thinking of Catherine either.)<br /><br />This movie is severely boring, depressing, and poorly directed. Not highly recommended. If if you like french movies. (go watch Crimson Rivers instead)<br /><br />4/10<br /><br />Quality: 5/10 Entertainment: 1/10 Replayable: 0/10",
         "0"
        ],
        [
         "15513",
         "***SPOILERS*** ***SPOILERS*** Well, seeing as I am a major H:LOTS fan, maybe I liked the movie more than normal people would. However, this movie is still excellent. It had tons of surprises, and it gave some more closure to the series. While I was sad that Bayliss turned into a murderer, the overall feeling I felt was satisfied.",
         "1"
        ],
        [
         "34038",
         "***SPOILERS*** ***SPOILERS*** Well, seeing as I am a major H:LOTS fan, maybe I liked the movie more than normal people would. However, this movie is still excellent. It had tons of surprises, and it gave some more closure to the series. While I was sad that Bayliss turned into a murderer, the overall feeling I felt was satisfied.",
         "1"
        ],
        [
         "8165",
         "**SPOILERS** I rented \"Tesis\" (or \"Thesis\" in English) on the strength of director Alejandro Amenabar's later effort \"The Others\". Based on what a brilliantly measured and horrifyingly effective creepfest that film was, I assumed his earlier efforts would be of a similar quality and I was in the mood for some good horror. Instead I wound up with the most tedious, preposterous excuse for a lame-brained slasher movie I've seen since the German film \"Anatomie\" (which this one kinda reminded me of).<br /><br />The plot has potential but it's thrown away within the first 20 minutes. It revolves around innocent-n-pretty psychology student Angela's (Ana Torrent - a Jessica Harper deadringer) thesis on the subject of violence in films. Through some far-fetched circumstances too dumb to go into here, she winds up in possession of a 'snuff' tape on which two men torture, mutilate and kill a young girl for the camera. Angela, and her horror-buff friend Chema (Fele Martinez) are both shocked yet intrigued by the tape and decide to get to the bottom of who's responsible for it.<br /><br />This leads to... well, nothing.<br /><br />They never really give a reason for why they want to find the girl's killers (since they resolutely refuse to contact the police throughout any of the unfolding events, even when their own lives at risk) and the mystery itself is as limp as Graham Norton in a room full of bunny girls. There is only one proper 'clue' (the type of camera the killers used is discovered) and that's a) a really weak one and b) wheeled out in the first 20 minutes. The rest of the so-called 'unravelling' just occurs through blind luck, increasingly ridiculous plot twists and a SLEW of awful, transparent and thoroughly pointless red herrings that are chucked in merely to pad out the running time.<br /><br />Seriously - Amenabar might know his stuff about ghost stories but he's clearly never read a detective book in his life. The key to a good whodunnit is to have a large cluster of potential suspects and to eliminate them one by one with clever deduction and the gradual discovery of more and more evidence, before moving in for the final twist. In \"Tesis\", *POTENTIAL SPOILER AHEAD* the killer's identity is guessed correctly by the amateur 'detectives' almost instantly and then we get 100 minutes of the writer trying feebly to throw us off the scent until he runs out of ideas, throws his hands up and says \"OK, ya got me, it was him after all\"! As for any kind of logic or motive behind the crimes - no such luck. You're watching the wrong movie if that's what you're after.<br /><br />The only thing that drags \"Tesis\" down further from just being a dumb, badly written thriller is the way it actually tries to make some ludicrous, muddled-up 'point' about violence in films. I have no idea what stance it's attempting to take on the subject but it seems determined to cram in a ton of misguided, confused psychobabble, in between the rest of the gibberish, and say \"look at me! I'm political!\". The final scenes, in which the \"point\" of the movie is supposedly hammered home, are so utterly absurd and puerile, one can't help but wonder if Amenabar feels embarrassed now when he watches this. If he doesn't, he certainly should. This is total 'amateur night at the slasher house' stuff.<br /><br />Overall I can't believe I wasted two whole hours (it felt like at least six) on this, just hoping something might happen. The urban legend of 'snuff films' (and that is basically all they are, despite the way this film tries to suggest they're some kind of criminal phenomenon sweeping the world!) is an area that can be so tantalisingly exploited in good horror films (\"Videodrome\" anyone?) but it's so easy to step over the line into childlike 'wouldn't it be cool if!' territory with it (ie: \"My Little Eye\")... \"Tesis\" hits an all-time low for the 'snuff movie' genre. On every level, this one is better left dead and buried. I'll award it a 1 out of 10, for some nice lighting, but that's all it's getting.",
         "0"
        ],
        [
         "22608",
         "**SPOILERS** I rented \"Tesis\" (or \"Thesis\" in English) on the strength of director Alejandro Amenabar's later effort \"The Others\". Based on what a brilliantly measured and horrifyingly effective creepfest that film was, I assumed his earlier efforts would be of a similar quality and I was in the mood for some good horror. Instead I wound up with the most tedious, preposterous excuse for a lame-brained slasher movie I've seen since the German film \"Anatomie\" (which this one kinda reminded me of).<br /><br />The plot has potential but it's thrown away within the first 20 minutes. It revolves around innocent-n-pretty psychology student Angela's (Ana Torrent - a Jessica Harper deadringer) thesis on the subject of violence in films. Through some far-fetched circumstances too dumb to go into here, she winds up in possession of a 'snuff' tape on which two men torture, mutilate and kill a young girl for the camera. Angela, and her horror-buff friend Chema (Fele Martinez) are both shocked yet intrigued by the tape and decide to get to the bottom of who's responsible for it.<br /><br />This leads to... well, nothing.<br /><br />They never really give a reason for why they want to find the girl's killers (since they resolutely refuse to contact the police throughout any of the unfolding events, even when their own lives at risk) and the mystery itself is as limp as Graham Norton in a room full of bunny girls. There is only one proper 'clue' (the type of camera the killers used is discovered) and that's a) a really weak one and b) wheeled out in the first 20 minutes. The rest of the so-called 'unravelling' just occurs through blind luck, increasingly ridiculous plot twists and a SLEW of awful, transparent and thoroughly pointless red herrings that are chucked in merely to pad out the running time.<br /><br />Seriously - Amenabar might know his stuff about ghost stories but he's clearly never read a detective book in his life. The key to a good whodunnit is to have a large cluster of potential suspects and to eliminate them one by one with clever deduction and the gradual discovery of more and more evidence, before moving in for the final twist. In \"Tesis\", *POTENTIAL SPOILER AHEAD* the killer's identity is guessed correctly by the amateur 'detectives' almost instantly and then we get 100 minutes of the writer trying feebly to throw us off the scent until he runs out of ideas, throws his hands up and says \"OK, ya got me, it was him after all\"! As for any kind of logic or motive behind the crimes - no such luck. You're watching the wrong movie if that's what you're after.<br /><br />The only thing that drags \"Tesis\" down further from just being a dumb, badly written thriller is the way it actually tries to make some ludicrous, muddled-up 'point' about violence in films. I have no idea what stance it's attempting to take on the subject but it seems determined to cram in a ton of misguided, confused psychobabble, in between the rest of the gibberish, and say \"look at me! I'm political!\". The final scenes, in which the \"point\" of the movie is supposedly hammered home, are so utterly absurd and puerile, one can't help but wonder if Amenabar feels embarrassed now when he watches this. If he doesn't, he certainly should. This is total 'amateur night at the slasher house' stuff.<br /><br />Overall I can't believe I wasted two whole hours (it felt like at least six) on this, just hoping something might happen. The urban legend of 'snuff films' (and that is basically all they are, despite the way this film tries to suggest they're some kind of criminal phenomenon sweeping the world!) is an area that can be so tantalisingly exploited in good horror films (\"Videodrome\" anyone?) but it's so easy to step over the line into childlike 'wouldn't it be cool if!' territory with it (ie: \"My Little Eye\")... \"Tesis\" hits an all-time low for the 'snuff movie' genre. On every level, this one is better left dead and buried. I'll award it a 1 out of 10, for some nice lighting, but that's all it's getting.",
         "0"
        ],
        [
         "21254",
         "*SPOILERS*<br /><br />I don't care what anyone says, this movie is friggin' hilarious. This is the sequel to Jack Frost, a movie about a killer snowman. The snowman is created when a convicted serial killer about to be executed is taken to the execution chamber, but the truck crashes with a truck carrying DNA manipulation chemicals that make human DNA bond with dirt, or in this case, snow. The first movie was just boring, and eventually the snowman is destroyed by pouring antifreeze on him.<br /><br />Or so they thought.<br /><br />This movie takes place about a year after the second. Some scientists resurrect Jack Frost by mixing the antifreeze with chemicals. No explanation is ever given for why they do this, they just do. Meanwhile, the sherrif who arrested Frost in the first is going to the Bahamas. Unfortunately, the snowman comes with him.<br /><br />This movie has it all. It has talking carrots that can stand up, ice cubes that explode when you stick them in your mouth, and killer snowballs. Yes, killer snowballs. They even say \"Dada!\" like babies. I'll have to give the makers of this credit. The snowballs are some of the cutest little things ever dreamed up. I wish that I could get one as a pet. Frost finally freezes the island, as if a killer snowman has the ability to influence major weather patterns.<br /><br />Then there's the actors. There's Manners, the FBI agent from the first movie, except here he's wearing an eyepatch. YARR MATEYS, SHIVER ME TIMBERS, I BE AN FBI AGENT! YARRR! And then there's the stereotypical British adventurer and the stereotypical black Jamaican with dreadlocks. And finally, Captain Fun. The fruitiest man on the face of the planet, bar none.<br /><br />This movie isn't scary, but is is hilarious. I laughed my butt off the whole way through, and I recommend this for anyone who likes a good \"bad\" movie.<br /><br />*** out ****",
         "1"
        ],
        [
         "25972",
         "*SPOILERS*<br /><br />I don't care what anyone says, this movie is friggin' hilarious. This is the sequel to Jack Frost, a movie about a killer snowman. The snowman is created when a convicted serial killer about to be executed is taken to the execution chamber, but the truck crashes with a truck carrying DNA manipulation chemicals that make human DNA bond with dirt, or in this case, snow. The first movie was just boring, and eventually the snowman is destroyed by pouring antifreeze on him.<br /><br />Or so they thought.<br /><br />This movie takes place about a year after the second. Some scientists resurrect Jack Frost by mixing the antifreeze with chemicals. No explanation is ever given for why they do this, they just do. Meanwhile, the sherrif who arrested Frost in the first is going to the Bahamas. Unfortunately, the snowman comes with him.<br /><br />This movie has it all. It has talking carrots that can stand up, ice cubes that explode when you stick them in your mouth, and killer snowballs. Yes, killer snowballs. They even say \"Dada!\" like babies. I'll have to give the makers of this credit. The snowballs are some of the cutest little things ever dreamed up. I wish that I could get one as a pet. Frost finally freezes the island, as if a killer snowman has the ability to influence major weather patterns.<br /><br />Then there's the actors. There's Manners, the FBI agent from the first movie, except here he's wearing an eyepatch. YARR MATEYS, SHIVER ME TIMBERS, I BE AN FBI AGENT! YARRR! And then there's the stereotypical British adventurer and the stereotypical black Jamaican with dreadlocks. And finally, Captain Fun. The fruitiest man on the face of the planet, bar none.<br /><br />This movie isn't scary, but is is hilarious. I laughed my butt off the whole way through, and I recommend this for anyone who likes a good \"bad\" movie.<br /><br />*** out ****",
         "1"
        ],
        [
         "4116",
         "-may contain spoilers-<br /><br />Clearly, who ever made this film must have had a lot of connections. I just can't see it any other way. What really surprises me is no one used the name Allen Smithee, and more surprising, everyone involved didn't use this name.<br /><br />Anyhow, where to begin. The bad dialogue, the crummy costumes, the sorry looking film stock, the unintentional comedy, the over-the-top characters, and more inconsistencies than George W. Bush's college career. I don't know what was funnier, the guy losing his arm because of a snowball, or the slow motion scene where all the baby Jack Frosts' were getting killed. Also, one of the great lines of all time was uttered in this film. \"How do we know it's him?\" Like there's another mutant snowman who can talk and kill people with snowballs! A great camp film, but a very bad film overall.",
         "0"
        ],
        [
         "16882",
         "-may contain spoilers-<br /><br />Clearly, who ever made this film must have had a lot of connections. I just can't see it any other way. What really surprises me is no one used the name Allen Smithee, and more surprising, everyone involved didn't use this name.<br /><br />Anyhow, where to begin. The bad dialogue, the crummy costumes, the sorry looking film stock, the unintentional comedy, the over-the-top characters, and more inconsistencies than George W. Bush's college career. I don't know what was funnier, the guy losing his arm because of a snowball, or the slow motion scene where all the baby Jack Frosts' were getting killed. Also, one of the great lines of all time was uttered in this film. \"How do we know it's him?\" Like there's another mutant snowman who can talk and kill people with snowballs! A great camp film, but a very bad film overall.",
         "0"
        ],
        [
         "2462",
         "...But not this one! I always wanted to know \"what happened\" next. We will never know for sure what happened because GWTW was Margaret's baby. I am a lifelong fan of Gone With the Wind and I could not have been more repulsed by the movie. I did compare \"Scarlett\" to the original GWTW because any film worth following GWTW needed to be on the same quality level as the first. Rhett was cast beautifully, although NO ONE will ever compare to Mr. Gable. I am also a strict Vivien Leigh fan!! She WAS Scarlett. She fit the bill. Not another actress in this lifetime or another will ever fit the same shoes but with \"Scarlett\" the job could have been done better. Not enough thought went into finding the proper Scarlett, that was evident.<br /><br />Overall, something to look to but if you want to know the what happened to Scarlett and Rhett, I suggest writing it yourself or finding fan fiction. This movie is not worth the time.",
         "0"
        ],
        [
         "26775",
         "...But not this one! I always wanted to know \"what happened\" next. We will never know for sure what happened because GWTW was Margaret's baby. I am a lifelong fan of Gone With the Wind and I could not have been more repulsed by the movie. I did compare \"Scarlett\" to the original GWTW because any film worth following GWTW needed to be on the same quality level as the first. Rhett was cast beautifully, although NO ONE will ever compare to Mr. Gable. I am also a strict Vivien Leigh fan!! She WAS Scarlett. She fit the bill. Not another actress in this lifetime or another will ever fit the same shoes but with \"Scarlett\" the job could have been done better. Not enough thought went into finding the proper Scarlett, that was evident.<br /><br />Overall, something to look to but if you want to know the what happened to Scarlett and Rhett, I suggest writing it yourself or finding fan fiction. This movie is not worth the time.",
         "0"
        ],
        [
         "4730",
         "<br /><br />First of all, I reviewed this documentary because I had an interest in the subject it portrayed, the LA punks.<br /><br />I listened that music and I loved that music and I read a lot of the small zines that were made in the early 80's and that were not so easily achieved in Finland.<br /><br />So if you don't like this kind of music why you write here about it? I like this kind of music, it speaks my soul, thus I know punks from all over Europe & Americas, so why do you, who find this music \"repugnant\" care to comment at all?<br /><br />",
         "1"
        ],
        [
         "35308",
         "<br /><br />First of all, I reviewed this documentary because I had an interest in the subject it portrayed, the LA punks.<br /><br />I listened that music and I loved that music and I read a lot of the small zines that were made in the early 80's and that were not so easily achieved in Finland.<br /><br />So if you don't like this kind of music why you write here about it? I like this kind of music, it speaks my soul, thus I know punks from all over Europe & Americas, so why do you, who find this music \"repugnant\" care to comment at all?<br /><br />",
         "1"
        ],
        [
         "7255",
         "A couple move into their dream home, unaware that it and its neighbours have been built over land formerly used as a cemetery. The film is said to have been based on a true story, although how much of it is supposed to be true is not disclosed. The plot is hardly unique - see Spielberg's 'Poltergeist' (1982). Within a short time, they experience various supernatural phenomena: these range from the disturbing - mysterious shadows, the serious illness of the daughter - to the frankly ridiculous - toilets continually flushing and garage doors going out of control. There is little depth to the story: once it has become established that the land had been used as a cemetery, we do not learn anything more. The plot does not seem to develop. The characters are not particularly well drawn or in any way memorable, nor is the atmosphere particularly special. The film could be disturbing to some viewers. There is no sense of catharsis or any kind of positive message from it.",
         "0"
        ],
        [
         "20139",
         "A couple move into their dream home, unaware that it and its neighbours have been built over land formerly used as a cemetery. The film is said to have been based on a true story, although how much of it is supposed to be true is not disclosed. The plot is hardly unique - see Spielberg's 'Poltergeist' (1982). Within a short time, they experience various supernatural phenomena: these range from the disturbing - mysterious shadows, the serious illness of the daughter - to the frankly ridiculous - toilets continually flushing and garage doors going out of control. There is little depth to the story: once it has become established that the land had been used as a cemetery, we do not learn anything more. The plot does not seem to develop. The characters are not particularly well drawn or in any way memorable, nor is the atmosphere particularly special. The film could be disturbing to some viewers. There is no sense of catharsis or any kind of positive message from it.",
         "0"
        ],
        [
         "253",
         "A fun romp...a lot of good twists and turns! (and we were not even baked!)<br /><br />Didn't know this movie even existed until watching the extra trailers on a Monty Python DVD...(oddly it was there along with The City of Lost Children, and The Adventures of Baron Munchauhsen)<br /><br />The plot keeps you wondering throughout.<br /><br />The acting was awesome...Hank Azaria shows his talent again, Bill Bob is Billy Bob...(wecis?)<br /><br />Definitely worth watching.",
         "1"
        ],
        [
         "17046",
         "A fun romp...a lot of good twists and turns! (and we were not even baked!)<br /><br />Didn't know this movie even existed until watching the extra trailers on a Monty Python DVD...(oddly it was there along with The City of Lost Children, and The Adventures of Baron Munchauhsen)<br /><br />The plot keeps you wondering throughout.<br /><br />The acting was awesome...Hank Azaria shows his talent again, Bill Bob is Billy Bob...(wecis?)<br /><br />Definitely worth watching.",
         "1"
        ],
        [
         "21117",
         "A have a female friend who is currently being drawn into a relationship with an SOB who has a long term girlfriend. Of course the SOB is very good-looking, charming, etc and my friend is a very intelligent woman. Watching Jean Pierre Leaud's character at work is exactly like watching what goes on in real life when guys like that destroy the lives of our female friends. It's tragic, and you know she's going to end up very hurt, but there's nothing you can do. Leaud is brilliant. Totally empty. A blank throughout, he pulls the faces and tells the stories he thinks will get the reaction he wants.<br /><br />The scene two hours in when Leaud and Lebrun have made love, and the next morning he puts on a record and, very sweetly and charmingly, sings along to amuse her is brilliant. The \"What the hell am I doing here with this idiot\" expression that flickers back and forth across her face will be in my memory for a long time to come.<br /><br />It's a long film, but see it in one go, preferably in a cinema. Takes a while to get into, but then the time just disappears.",
         "1"
        ],
        [
         "31446",
         "A have a female friend who is currently being drawn into a relationship with an SOB who has a long term girlfriend. Of course the SOB is very good-looking, charming, etc and my friend is a very intelligent woman. Watching Jean Pierre Leaud's character at work is exactly like watching what goes on in real life when guys like that destroy the lives of our female friends. It's tragic, and you know she's going to end up very hurt, but there's nothing you can do. Leaud is brilliant. Totally empty. A blank throughout, he pulls the faces and tells the stories he thinks will get the reaction he wants.<br /><br />The scene two hours in when Leaud and Lebrun have made love, and the next morning he puts on a record and, very sweetly and charmingly, sings along to amuse her is brilliant. The \"What the hell am I doing here with this idiot\" expression that flickers back and forth across her face will be in my memory for a long time to come.<br /><br />It's a long film, but see it in one go, preferably in a cinema. Takes a while to get into, but then the time just disappears.",
         "1"
        ],
        [
         "16088",
         "A holiday on a boat, a married couple, an angry waiter and a shipwreck is the reason to this films beginning.<br /><br />I like boobs. No question about that. But when the main character allies with whoever happens to have the most fish at the moment, mostly by having sex with them and playing the role of the constant victim, my anger just rises to a whole new level. Take two guys (a husband and another man), put a pure bombshell woman in the middle of them, ad a deserted island, subtract all her moral issues, ad a whole bunch of moral issues to the men and mix it in a big bowl of arguments, fish and a zippo lighter and you will come up with a piece of junk movie like this. <br /><br />The acting is, I would say, good. There are some bloopers but not many as far as i could see. The main female character makes me sick. This is due to her lack of moral values. The man with the most fish get's her attention. Even though one of them is her husband, she sees no problem with being unfaithful with (Manuel) the other man because \"I must do it to survive\". How can you justify having sex with another man for fish when your husband is 30feet away? And he won't even benefit from it? The female character has absolutely no problems to justify anything that she does. If she doesen't get approval for her actions, she's a victim.<br /><br />I recommend everyone to see this movie. This is the kind of movie that will make just about everything else you see this year a pleasant movie experience.",
         "0"
        ],
        [
         "26333",
         "A holiday on a boat, a married couple, an angry waiter and a shipwreck is the reason to this films beginning.<br /><br />I like boobs. No question about that. But when the main character allies with whoever happens to have the most fish at the moment, mostly by having sex with them and playing the role of the constant victim, my anger just rises to a whole new level. Take two guys (a husband and another man), put a pure bombshell woman in the middle of them, ad a deserted island, subtract all her moral issues, ad a whole bunch of moral issues to the men and mix it in a big bowl of arguments, fish and a zippo lighter and you will come up with a piece of junk movie like this. <br /><br />The acting is, I would say, good. There are some bloopers but not many as far as i could see. The main female character makes me sick. This is due to her lack of moral values. The man with the most fish get's her attention. Even though one of them is her husband, she sees no problem with being unfaithful with (Manuel) the other man because \"I must do it to survive\". How can you justify having sex with another man for fish when your husband is 30feet away? And he won't even benefit from it? The female character has absolutely no problems to justify anything that she does. If she doesen't get approval for her actions, she's a victim.<br /><br />I recommend everyone to see this movie. This is the kind of movie that will make just about everything else you see this year a pleasant movie experience.",
         "0"
        ],
        [
         "7919",
         "A lot about USA The Movie can be summed up in its title. It draws parallels between the attitudes of this country in the face of war and a kind of Hollywood-like falseness that glorifies things that shouldn't be glorified. I'm not sure I agree with the filmmaker's take on recent events (although, truthfully, I can't always tell exactly where he stands) but I admire the unusual and artistic way of getting the point across. Audio tracks of speeches, radio interviews, poetry etc. play as large a role here as visuals. Most of the time the visuals of the story are accompanied by these audio elements to good effect. I'm kind of a radio buff so it was satisfying to hear the way that radio was integrated into the pace of the movie. In fact, most of the dialog takes place over the story rather than having characters talk to one another. That's not to say that there aren't \"characters\" (real people), but except for \"Jim\" the protagonist ( a kind of '60's drop out with an erratic state of mind) the others come and go pretty quickly. A few make a very powerful impression, especially a guru-like taxi driver who seems to be the voice of wisdom itself. When he breaks out into a spontaneous song of prayer while driving Jim to the subway, it is a very powerful moment. On the cover of the DVD is the quote \"The danger is clear\" which is taken from President Bush's speech that paved the way to our incursion into Iraq. In retrospect, hearing that speech at a climactic moment in the film brought home how we are living in a historically charged moment which will always be remembered.",
         "1"
        ],
        [
         "18523",
         "A lot about USA The Movie can be summed up in its title. It draws parallels between the attitudes of this country in the face of war and a kind of Hollywood-like falseness that glorifies things that shouldn't be glorified. I'm not sure I agree with the filmmaker's take on recent events (although, truthfully, I can't always tell exactly where he stands) but I admire the unusual and artistic way of getting the point across. Audio tracks of speeches, radio interviews, poetry etc. play as large a role here as visuals. Most of the time the visuals of the story are accompanied by these audio elements to good effect. I'm kind of a radio buff so it was satisfying to hear the way that radio was integrated into the pace of the movie. In fact, most of the dialog takes place over the story rather than having characters talk to one another. That's not to say that there aren't \"characters\" (real people), but except for \"Jim\" the protagonist ( a kind of '60's drop out with an erratic state of mind) the others come and go pretty quickly. A few make a very powerful impression, especially a guru-like taxi driver who seems to be the voice of wisdom itself. When he breaks out into a spontaneous song of prayer while driving Jim to the subway, it is a very powerful moment. On the cover of the DVD is the quote \"The danger is clear\" which is taken from President Bush's speech that paved the way to our incursion into Iraq. In retrospect, hearing that speech at a climactic moment in the film brought home how we are living in a historically charged moment which will always be remembered.",
         "1"
        ],
        [
         "31531",
         "A ridiculous movie, a terrible editing job, worst screenplay, ridiculous acting, a story that is completely ununderstandable...<br /><br />If God was going to decide if movies should continue to be done, judging by this one, the entire world movie industry would now be dead...<br /><br />A wonderful movie to show that cinema should not be done by people who \"think\" they can make movies.<br /><br />I am still wondering who are those two gipsy girls who show up in the movie for over half an hour, and are never introduced to us...<br /><br />",
         "0"
        ],
        [
         "36904",
         "A ridiculous movie, a terrible editing job, worst screenplay, ridiculous acting, a story that is completely ununderstandable...<br /><br />If God was going to decide if movies should continue to be done, judging by this one, the entire world movie industry would now be dead...<br /><br />A wonderful movie to show that cinema should not be done by people who \"think\" they can make movies.<br /><br />I am still wondering who are those two gipsy girls who show up in the movie for over half an hour, and are never introduced to us...<br /><br />",
         "0"
        ],
        [
         "22966",
         "A talented high school graduating senior with a bad attitude is forced to play in the state all-star high school football game. When he meets and falls for an attractive local girl she helps him realize he has a shot at a 'full ride' scholarship if he plays well.<br /><br />All too often, these dramas fall into formulaic traps and tell the same old story of a troubled and confused teen. FULL RIDE's Matt Sabo certainly fits this profile, but below the surface is a much more unique individual than we usually see in this genre. Matt is the center of the action and he is a realistic teenager, both over-confident and vulnerable, optimistic and cynical by turns. Influenced by Amy, Matt grows into a man of character and heart. He, in turn, forms friendships with his teammates, which influences his growth as an athlete and as a team player.<br /><br />FULL RIDE has all the elements we love to see in a movie--great acting, admirable characters, exciting sports scenes, poignant drama, and a love story. Still, while one may have seen these elements in other films, FULL RIDE is assisted by performances that are sincere and occasionally, even moving. Perhaps what's most impressive about FULL RIDE is its sense of reality. Although the author of the previous comment would seem to disagree, (clearly a disgruntled student who, for quite obvious reasons, received a poor grade in his film class) director Mark Hoeger grounds the film in a believable situation and location and does a great job of getting down to the grit of what life is like in a small town. These characters are real people rooted in realistic situations, which often create the most compelling entertainment. On one level it is a love story, on another it is a character study, and yet another it is a simple football film. All of these ideas come together to form a cohesive vehicle.",
         "1"
        ],
        [
         "31169",
         "A talented high school graduating senior with a bad attitude is forced to play in the state all-star high school football game. When he meets and falls for an attractive local girl she helps him realize he has a shot at a 'full ride' scholarship if he plays well.<br /><br />All too often, these dramas fall into formulaic traps and tell the same old story of a troubled and confused teen. FULL RIDE's Matt Sabo certainly fits this profile, but below the surface is a much more unique individual than we usually see in this genre. Matt is the center of the action and he is a realistic teenager, both over-confident and vulnerable, optimistic and cynical by turns. Influenced by Amy, Matt grows into a man of character and heart. He, in turn, forms friendships with his teammates, which influences his growth as an athlete and as a team player.<br /><br />FULL RIDE has all the elements we love to see in a movie--great acting, admirable characters, exciting sports scenes, poignant drama, and a love story. Still, while one may have seen these elements in other films, FULL RIDE is assisted by performances that are sincere and occasionally, even moving. Perhaps what's most impressive about FULL RIDE is its sense of reality. Although the author of the previous comment would seem to disagree, (clearly a disgruntled student who, for quite obvious reasons, received a poor grade in his film class) director Mark Hoeger grounds the film in a believable situation and location and does a great job of getting down to the grit of what life is like in a small town. These characters are real people rooted in realistic situations, which often create the most compelling entertainment. On one level it is a love story, on another it is a character study, and yet another it is a simple football film. All of these ideas come together to form a cohesive vehicle.",
         "1"
        ],
        [
         "9254",
         "A truly excellent look at the world and the realities of being a heroin addict. The movie is one that will hit much too close to home to those who were involved in the drug culture and have knowledge of what being(or being around) a heroin addict really is. Good movie, which will never truly be outdated. Excellent performances by all involved and the minimalist set is Preminger's way of showing how bleak a JUNKIE'S world can become. Worth a look--an education of sorts. The golden arm is a worried look at the truth of the underground life of pain a junkie lives in.",
         "1"
        ],
        [
         "35792",
         "A truly excellent look at the world and the realities of being a heroin addict. The movie is one that will hit much too close to home to those who were involved in the drug culture and have knowledge of what being(or being around) a heroin addict really is. Good movie, which will never truly be outdated. Excellent performances by all involved and the minimalist set is Preminger's way of showing how bleak a JUNKIE'S world can become. Worth a look--an education of sorts. The golden arm is a worried look at the truth of the underground life of pain a junkie lives in.",
         "1"
        ],
        [
         "13625",
         "After reading previews for this movie I thought it would be a let down, however after I got my region 1 dvd ( the dvd was available before the film hit the uk cinemas) I was pleasantly surprised, strong performances from all cast members make this a very enjoyable movie. The fact that the script is quite weak means that you dont get bogged down in story and therefore the repeat viewing factor is greater. I recommend this movie to one and all<br /><br />",
         "1"
        ],
        [
         "18177",
         "After reading previews for this movie I thought it would be a let down, however after I got my region 1 dvd ( the dvd was available before the film hit the uk cinemas) I was pleasantly surprised, strong performances from all cast members make this a very enjoyable movie. The fact that the script is quite weak means that you dont get bogged down in story and therefore the repeat viewing factor is greater. I recommend this movie to one and all<br /><br />",
         "1"
        ],
        [
         "7085",
         "Alexandra Ripley wrote a horrible sequel to Margaret Mitchell's masterpiece book published in the 1930's. Margaret Mitchell's heirs sold out their rights and for big bucks allowed Alexandra Ripley to write a piece of junk book even worse than Barbara Cortland romance novels. I was a huge fan of Margaret Mitchells book and the fake sequel by Alexandra Ripley was written just to cash in for money.<br /><br />Although I always admired the acting talent of Joanne Kilmer and Timothy Dalton, this is a really terrible film. The script is horrible and full of clichés. Ann Margarets cameo as Belle Watling is so awful I wanted to slap her.<br /><br />The only worthwhile thing in the movie is Sean Bean who gives a masterful bravura performance as the sexy, feral villain - Lord Fenton. Sean Bean's performance is along the lines of \"The Man You Love to Hate\" and portrays an unsafe sex symbol.<br /><br />But Sean Bean is only in the first half of the movie so you then have to be tormented with watching an incredibly long 6 hour movie with an insufferably boring script.<br /><br />Don't waste your money on this film, unless you are a hard core Sean Bean fan and just watch it for his wonderful performance.",
         "0"
        ],
        [
         "22236",
         "Alexandra Ripley wrote a horrible sequel to Margaret Mitchell's masterpiece book published in the 1930's. Margaret Mitchell's heirs sold out their rights and for big bucks allowed Alexandra Ripley to write a piece of junk book even worse than Barbara Cortland romance novels. I was a huge fan of Margaret Mitchells book and the fake sequel by Alexandra Ripley was written just to cash in for money.<br /><br />Although I always admired the acting talent of Joanne Kilmer and Timothy Dalton, this is a really terrible film. The script is horrible and full of clichés. Ann Margarets cameo as Belle Watling is so awful I wanted to slap her.<br /><br />The only worthwhile thing in the movie is Sean Bean who gives a masterful bravura performance as the sexy, feral villain - Lord Fenton. Sean Bean's performance is along the lines of \"The Man You Love to Hate\" and portrays an unsafe sex symbol.<br /><br />But Sean Bean is only in the first half of the movie so you then have to be tormented with watching an incredibly long 6 hour movie with an insufferably boring script.<br /><br />Don't waste your money on this film, unless you are a hard core Sean Bean fan and just watch it for his wonderful performance.",
         "0"
        ],
        [
         "2506",
         "Alfred Hitchcock invented any kind of thriller you could think of:he set the standards so high that any director who makes a suspense movie will be fatally compared to him.<br /><br />The main subject of this Bullock vehicle ,all the ideas,almost everything was already in Hitchcock's classic \" Rope\":the two students who commit a gratuitous crime, Nietsche's philosophy,and the clues that the boys disseminate ,the Master was the first to transfer them to the screen.And with an eighty-minute movie which was a technical riveting tour de force.<br /><br />\"Murder by numbers \" does not take place in a single room,like \"the rope\" ,mind you.And ,what a supreme originality,it pits two cops against the evil youngsters;and ,you would never guess it,these two cops are very different:actually,Bullock plays the part of woman living like a man ,and her partner (Chaplin) is as shy as a clueless girlie.The two boys' performances are not really mind-boggling ,not as good ,as ,say ,that of Edward Norton in \"primal fear\" .<br /><br />Well,you know ,\" Rope\" was so good ....",
         "0"
        ],
        [
         "4294",
         "Alfred Hitchcock invented any kind of thriller you could think of:he set the standards so high that any director who makes a suspense movie will be fatally compared to him.<br /><br />The main subject of this Bullock vehicle ,all the ideas,almost everything was already in Hitchcock's classic \" Rope\":the two students who commit a gratuitous crime, Nietsche's philosophy,and the clues that the boys disseminate ,the Master was the first to transfer them to the screen.And with an eighty-minute movie which was a technical riveting tour de force.<br /><br />\"Murder by numbers \" does not take place in a single room,like \"the rope\" ,mind you.And ,what a supreme originality,it pits two cops against the evil youngsters;and ,you would never guess it,these two cops are very different:actually,Bullock plays the part of woman living like a man ,and her partner (Chaplin) is as shy as a clueless girlie.The two boys' performances are not really mind-boggling ,not as good ,as ,say ,that of Edward Norton in \"primal fear\" .<br /><br />Well,you know ,\" Rope\" was so good ....",
         "0"
        ],
        [
         "4767",
         "Alright, we start in the office of a shrink, and apparently not a very good one. The main hero from the first Jack Frost is in the shrinks office blurting out random rhymes about Jack Frost. Gee, alright my brother is yelling ''Turn it off!''. Anyway, back to the crappy movie.<br /><br />The shrink has his speaker phone on and is letting his secretary and her friends listen in on this heroic insane sheriff. I suppose he is supposed to be the hero from the first movie, but he looks nothing like him!. Yadda yadda yadda, they laugh at the poor sheriff, yadda yadda. Now some people are digging up the anti-frozed snowman, yadda yadda, now we're in a lab with some type of doctor people.. I don't quite see how this has to do anything, but their poking the anti-freeze/Evil killer mutant snowman with needles, heating it, shocking it, adding strange and bizarre chemicals to it, the whole nine yards. Nothing. Alright, they give up and leave it in a fish tank. One of the doctors leaves his coffee on the top of the tank. The janitor walks in, cleans stuff, bumps the fishtank and the coffee spills the tank which makes Jack alive.<br /><br />Behold the power of mocha! Now somehow he is in..uh.. i believe the Bahamas... but it looked more like Hawaii.. But it couldn't be Hawaii! Unless they spent all of their budget on the dang air plane tickets. Bah.. I wont spoil the rest of this rotten movie, so you'll have to rent it and watch it your self... Er... i wouldn't suggest doing so though.... Sheesh..",
         "0"
        ],
        [
         "15354",
         "Alright, we start in the office of a shrink, and apparently not a very good one. The main hero from the first Jack Frost is in the shrinks office blurting out random rhymes about Jack Frost. Gee, alright my brother is yelling ''Turn it off!''. Anyway, back to the crappy movie.<br /><br />The shrink has his speaker phone on and is letting his secretary and her friends listen in on this heroic insane sheriff. I suppose he is supposed to be the hero from the first movie, but he looks nothing like him!. Yadda yadda yadda, they laugh at the poor sheriff, yadda yadda. Now some people are digging up the anti-frozed snowman, yadda yadda, now we're in a lab with some type of doctor people.. I don't quite see how this has to do anything, but their poking the anti-freeze/Evil killer mutant snowman with needles, heating it, shocking it, adding strange and bizarre chemicals to it, the whole nine yards. Nothing. Alright, they give up and leave it in a fish tank. One of the doctors leaves his coffee on the top of the tank. The janitor walks in, cleans stuff, bumps the fishtank and the coffee spills the tank which makes Jack alive.<br /><br />Behold the power of mocha! Now somehow he is in..uh.. i believe the Bahamas... but it looked more like Hawaii.. But it couldn't be Hawaii! Unless they spent all of their budget on the dang air plane tickets. Bah.. I wont spoil the rest of this rotten movie, so you'll have to rent it and watch it your self... Er... i wouldn't suggest doing so though.... Sheesh..",
         "0"
        ],
        [
         "16543",
         "An Italian/American co-production co-starring Linda Blair and David 'The Hoff' Hasselhoff: how could any fan of trashy horror resist such a treat?<br /><br />Well, based on the uneventful, extremely tedious, and utterly nonsensical first forty minutes or so, I would have said 'very easily'; thankfully, however, things do eventually get a tad more entertaining with the introduction of several inventive death scenes, and for those lucky enough to find an uncut copy, a smattering of nudity too (unfortunately, my copy was optically edited to remove such offensive material).<br /><br />The Hoff stars as Gary, a photographer who accompanies his beautiful girlfriend Leslie (Leslie Cumming) to a run-down hotel on a seemingly deserted island in order to take pictures for her latest project, a book about witches; whilst there, frustrated Gary also hopes to try and cure a bad case of blue balls by relieving Leslie of her virginity.<br /><br />His plans for nookie are scuppered, however, by the unexpected arrival of property developers Freddie and Rose Brooks (Robert Champagne and Annie Ross), their pregnant daughter Jane (Blair), son Tommy (Michael Manchester), pretty nymphomaniac architect Linda Sullivan (Catherine Hickland), and estate agent Jerry (Rick Farnsworth), who have come to inspect the island's hotel.<br /><br />After explaining their unexpected presence on the island, Gary and Leslie are welcomed by the property's new owners, and when a violent storm suddenly picks up, making it perilous to return to the mainland, everyone agrees to spend the night in the old building. Unfortunately, unbeknownst to the hotel's new guests, the place is also home to the spirit of an evil witch (Hildegard Knef), who requires human sacrifices in order to bring herself back to life. One by one, victims are pulled into a swirling red vortex (which is guaranteed to provide unintentional laughs), before meeting a terrible fate.<br /><br />None of this makes much sense, and the acting is atrocious (Manchester as Tommy is particularly bad, whilst Hasselhoff proves to be one of the better performers, which speaks volumes about the others), but those viewers who make it past the dreary first half are rewarded with some pretty decent moments of gore: Rose has her lips sewn together, before being roasted alive in a fireplace; Jerry is crucified and burnt alive; Linda is tortured by hags and impaled on a swordfish(!!); Freddie's veins pulsate and erupt in geysers of blood; and Gary gets stabbed in the back.<br /><br />Oh, and Leslie is raped by a guy with no lips and Blair gets possessed (again).",
         "0"
        ],
        [
         "20194",
         "An Italian/American co-production co-starring Linda Blair and David 'The Hoff' Hasselhoff: how could any fan of trashy horror resist such a treat?<br /><br />Well, based on the uneventful, extremely tedious, and utterly nonsensical first forty minutes or so, I would have said 'very easily'; thankfully, however, things do eventually get a tad more entertaining with the introduction of several inventive death scenes, and for those lucky enough to find an uncut copy, a smattering of nudity too (unfortunately, my copy was optically edited to remove such offensive material).<br /><br />The Hoff stars as Gary, a photographer who accompanies his beautiful girlfriend Leslie (Leslie Cumming) to a run-down hotel on a seemingly deserted island in order to take pictures for her latest project, a book about witches; whilst there, frustrated Gary also hopes to try and cure a bad case of blue balls by relieving Leslie of her virginity.<br /><br />His plans for nookie are scuppered, however, by the unexpected arrival of property developers Freddie and Rose Brooks (Robert Champagne and Annie Ross), their pregnant daughter Jane (Blair), son Tommy (Michael Manchester), pretty nymphomaniac architect Linda Sullivan (Catherine Hickland), and estate agent Jerry (Rick Farnsworth), who have come to inspect the island's hotel.<br /><br />After explaining their unexpected presence on the island, Gary and Leslie are welcomed by the property's new owners, and when a violent storm suddenly picks up, making it perilous to return to the mainland, everyone agrees to spend the night in the old building. Unfortunately, unbeknownst to the hotel's new guests, the place is also home to the spirit of an evil witch (Hildegard Knef), who requires human sacrifices in order to bring herself back to life. One by one, victims are pulled into a swirling red vortex (which is guaranteed to provide unintentional laughs), before meeting a terrible fate.<br /><br />None of this makes much sense, and the acting is atrocious (Manchester as Tommy is particularly bad, whilst Hasselhoff proves to be one of the better performers, which speaks volumes about the others), but those viewers who make it past the dreary first half are rewarded with some pretty decent moments of gore: Rose has her lips sewn together, before being roasted alive in a fireplace; Jerry is crucified and burnt alive; Linda is tortured by hags and impaled on a swordfish(!!); Freddie's veins pulsate and erupt in geysers of blood; and Gary gets stabbed in the back.<br /><br />Oh, and Leslie is raped by a guy with no lips and Blair gets possessed (again).",
         "0"
        ],
        [
         "1658",
         "An absolutely atrocious adaptation of the wonderful children's book. Crude and inappropriate humor, some scary parts, and a sickening side story about the mom's boyfriend wanting to send the boy away to military school to get him out of the way makes this totally inappropriate for the kids who will most likely want to see it because of the book (3-8) yr olds. Don't waste your money, your time, or your good judgement.",
         "0"
        ],
        [
         "3236",
         "An absolutely atrocious adaptation of the wonderful children's book. Crude and inappropriate humor, some scary parts, and a sickening side story about the mom's boyfriend wanting to send the boy away to military school to get him out of the way makes this totally inappropriate for the kids who will most likely want to see it because of the book (3-8) yr olds. Don't waste your money, your time, or your good judgement.",
         "0"
        ],
        [
         "11950",
         "An updated version of a theme which has been done before. While that in and of itself is not bad, this movie doesn't reach the ring like the other \"inherent and pure\" evil ones do. <br /><br />Predictable, ambitious attempt that falls short of the mark. Not worth sitting through for the tired contrived ending.",
         "0"
        ],
        [
         "26225",
         "An updated version of a theme which has been done before. While that in and of itself is not bad, this movie doesn't reach the ring like the other \"inherent and pure\" evil ones do. <br /><br />Predictable, ambitious attempt that falls short of the mark. Not worth sitting through for the tired contrived ending.",
         "0"
        ]
       ],
       "shape": {
        "columns": 2,
        "rows": 546
       }
      },
      "text/html": [
       "<div>\n",
       "<style scoped>\n",
       "    .dataframe tbody tr th:only-of-type {\n",
       "        vertical-align: middle;\n",
       "    }\n",
       "\n",
       "    .dataframe tbody tr th {\n",
       "        vertical-align: top;\n",
       "    }\n",
       "\n",
       "    .dataframe thead th {\n",
       "        text-align: right;\n",
       "    }\n",
       "</style>\n",
       "<table border=\"1\" class=\"dataframe\">\n",
       "  <thead>\n",
       "    <tr style=\"text-align: right;\">\n",
       "      <th></th>\n",
       "      <th>text</th>\n",
       "      <th>label</th>\n",
       "    </tr>\n",
       "  </thead>\n",
       "  <tbody>\n",
       "    <tr>\n",
       "      <th>202</th>\n",
       "      <td>\"Go Fish\" garnered Rose Troche rightly or wron...</td>\n",
       "      <td>0</td>\n",
       "    </tr>\n",
       "    <tr>\n",
       "      <th>39214</th>\n",
       "      <td>\"Go Fish\" garnered Rose Troche rightly or wron...</td>\n",
       "      <td>0</td>\n",
       "    </tr>\n",
       "    <tr>\n",
       "      <th>14788</th>\n",
       "      <td>\"Three\" is a seriously dumb shipwreck movie. M...</td>\n",
       "      <td>0</td>\n",
       "    </tr>\n",
       "    <tr>\n",
       "      <th>20957</th>\n",
       "      <td>\"Three\" is a seriously dumb shipwreck movie. M...</td>\n",
       "      <td>0</td>\n",
       "    </tr>\n",
       "    <tr>\n",
       "      <th>23393</th>\n",
       "      <td>\"Witchery\" might just be the most incoherent a...</td>\n",
       "      <td>0</td>\n",
       "    </tr>\n",
       "    <tr>\n",
       "      <th>...</th>\n",
       "      <td>...</td>\n",
       "      <td>...</td>\n",
       "    </tr>\n",
       "    <tr>\n",
       "      <th>18082</th>\n",
       "      <td>this movie begins with an ordinary funeral... ...</td>\n",
       "      <td>0</td>\n",
       "    </tr>\n",
       "    <tr>\n",
       "      <th>2908</th>\n",
       "      <td>this movie sucks. did anyone notice that the e...</td>\n",
       "      <td>0</td>\n",
       "    </tr>\n",
       "    <tr>\n",
       "      <th>34939</th>\n",
       "      <td>this movie sucks. did anyone notice that the e...</td>\n",
       "      <td>0</td>\n",
       "    </tr>\n",
       "    <tr>\n",
       "      <th>5842</th>\n",
       "      <td>well, the writing was very sloppy, the directi...</td>\n",
       "      <td>0</td>\n",
       "    </tr>\n",
       "    <tr>\n",
       "      <th>25465</th>\n",
       "      <td>well, the writing was very sloppy, the directi...</td>\n",
       "      <td>0</td>\n",
       "    </tr>\n",
       "  </tbody>\n",
       "</table>\n",
       "<p>546 rows × 2 columns</p>\n",
       "</div>"
      ],
      "text/plain": [
       "                                                    text  label\n",
       "202    \"Go Fish\" garnered Rose Troche rightly or wron...      0\n",
       "39214  \"Go Fish\" garnered Rose Troche rightly or wron...      0\n",
       "14788  \"Three\" is a seriously dumb shipwreck movie. M...      0\n",
       "20957  \"Three\" is a seriously dumb shipwreck movie. M...      0\n",
       "23393  \"Witchery\" might just be the most incoherent a...      0\n",
       "...                                                  ...    ...\n",
       "18082  this movie begins with an ordinary funeral... ...      0\n",
       "2908   this movie sucks. did anyone notice that the e...      0\n",
       "34939  this movie sucks. did anyone notice that the e...      0\n",
       "5842   well, the writing was very sloppy, the directi...      0\n",
       "25465  well, the writing was very sloppy, the directi...      0\n",
       "\n",
       "[546 rows x 2 columns]"
      ]
     },
     "execution_count": 13,
     "metadata": {},
     "output_type": "execute_result"
    }
   ],
   "source": [
    "data[data.duplicated(keep=False)].sort_values(by=data.columns.tolist())"
   ]
  },
  {
   "cell_type": "code",
   "execution_count": 14,
   "metadata": {},
   "outputs": [],
   "source": [
    "data = data.drop_duplicates()"
   ]
  },
  {
   "cell_type": "code",
   "execution_count": 15,
   "metadata": {},
   "outputs": [],
   "source": [
    "import json\n",
    "# Convert to dictionary\n",
    "data_dict = {\n",
    "    \"texts\": data[\"text\"].tolist(),\n",
    "    \"Labels\": data[\"label\"].tolist()\n",
    "}\n",
    "\n",
    "with open(\"movie_review.json\", \"w\", encoding=\"utf-8\") as json_file:\n",
    "    json.dump(data_dict, json_file, ensure_ascii=False, indent=4)\n"
   ]
  },
  {
   "cell_type": "code",
   "execution_count": 16,
   "metadata": {},
   "outputs": [
    {
     "name": "stdout",
     "output_type": "stream",
     "text": [
      "I was an usherette in an old theater in Northern California when this movie came out. As good as it is on DVD, it's even more eerie and terrifying on the big screen. Although it has been about 9 years since I have seen it, it is still one of my all-time favorites. At the risk of sounding trite, \"They just don't make 'em like this anymore!\" If Sixth Sense freaked you out at all, this movie is definitely for you! Great storyline, incredible cast of characters, ominous setting; even the soundtrack has a haunting quality to it. I highly recommend you not watch it alone. What a brownstone apartment was renting for in 1977 alone, will have you gasping (it would be at least 10-times that price today). 1\n"
     ]
    }
   ],
   "source": [
    "print(data['text'][5000],data['label'][5000])"
   ]
  },
  {
   "cell_type": "markdown",
   "metadata": {},
   "source": [
    "# EDA"
   ]
  },
  {
   "cell_type": "code",
   "execution_count": 17,
   "metadata": {},
   "outputs": [
    {
     "data": {
      "application/vnd.microsoft.datawrangler.viewer.v0+json": {
       "columns": [
        {
         "name": "index",
         "rawType": "object",
         "type": "string"
        },
        {
         "name": "label",
         "rawType": "float64",
         "type": "float"
        }
       ],
       "conversionMethod": "pd.DataFrame",
       "ref": "697e1b00-5515-4d8d-9959-d48aa41d3297",
       "rows": [
        [
         "count",
         "39723.0"
        ],
        [
         "mean",
         "0.5011706064496639"
        ],
        [
         "std",
         "0.5000049233633063"
        ],
        [
         "min",
         "0.0"
        ],
        [
         "25%",
         "0.0"
        ],
        [
         "50%",
         "1.0"
        ],
        [
         "75%",
         "1.0"
        ],
        [
         "max",
         "1.0"
        ]
       ],
       "shape": {
        "columns": 1,
        "rows": 8
       }
      },
      "text/html": [
       "<div>\n",
       "<style scoped>\n",
       "    .dataframe tbody tr th:only-of-type {\n",
       "        vertical-align: middle;\n",
       "    }\n",
       "\n",
       "    .dataframe tbody tr th {\n",
       "        vertical-align: top;\n",
       "    }\n",
       "\n",
       "    .dataframe thead th {\n",
       "        text-align: right;\n",
       "    }\n",
       "</style>\n",
       "<table border=\"1\" class=\"dataframe\">\n",
       "  <thead>\n",
       "    <tr style=\"text-align: right;\">\n",
       "      <th></th>\n",
       "      <th>label</th>\n",
       "    </tr>\n",
       "  </thead>\n",
       "  <tbody>\n",
       "    <tr>\n",
       "      <th>count</th>\n",
       "      <td>39723.000000</td>\n",
       "    </tr>\n",
       "    <tr>\n",
       "      <th>mean</th>\n",
       "      <td>0.501171</td>\n",
       "    </tr>\n",
       "    <tr>\n",
       "      <th>std</th>\n",
       "      <td>0.500005</td>\n",
       "    </tr>\n",
       "    <tr>\n",
       "      <th>min</th>\n",
       "      <td>0.000000</td>\n",
       "    </tr>\n",
       "    <tr>\n",
       "      <th>25%</th>\n",
       "      <td>0.000000</td>\n",
       "    </tr>\n",
       "    <tr>\n",
       "      <th>50%</th>\n",
       "      <td>1.000000</td>\n",
       "    </tr>\n",
       "    <tr>\n",
       "      <th>75%</th>\n",
       "      <td>1.000000</td>\n",
       "    </tr>\n",
       "    <tr>\n",
       "      <th>max</th>\n",
       "      <td>1.000000</td>\n",
       "    </tr>\n",
       "  </tbody>\n",
       "</table>\n",
       "</div>"
      ],
      "text/plain": [
       "              label\n",
       "count  39723.000000\n",
       "mean       0.501171\n",
       "std        0.500005\n",
       "min        0.000000\n",
       "25%        0.000000\n",
       "50%        1.000000\n",
       "75%        1.000000\n",
       "max        1.000000"
      ]
     },
     "execution_count": 17,
     "metadata": {},
     "output_type": "execute_result"
    }
   ],
   "source": [
    "data.describe()"
   ]
  },
  {
   "cell_type": "code",
   "execution_count": 18,
   "metadata": {},
   "outputs": [
    {
     "data": {
      "text/plain": [
       "label\n",
       "1    19908\n",
       "0    19815\n",
       "Name: count, dtype: int64"
      ]
     },
     "execution_count": 18,
     "metadata": {},
     "output_type": "execute_result"
    }
   ],
   "source": [
    "data['label'].value_counts()"
   ]
  },
  {
   "cell_type": "code",
   "execution_count": 19,
   "metadata": {},
   "outputs": [
    {
     "name": "stderr",
     "output_type": "stream",
     "text": [
      "C:\\Users\\diask\\AppData\\Local\\Temp\\ipykernel_15296\\2813318363.py:3: UserWarning: set_ticklabels() should only be used with a fixed number of ticks, i.e. after set_ticks() or using a FixedLocator.\n",
      "  ax.set_xticklabels(['postive','negative'])\n"
     ]
    },
    {
     "data": {
      "image/png": "[encoded data removed]",
      "text/plain": [
       "<Figure size 640x480 with 1 Axes>"
      ]
     },
     "metadata": {},
     "output_type": "display_data"
    }
   ],
   "source": [
    "#plot the labels\n",
    "ax = sns.countplot(data = data,x=data['label'],hue=data['label'],palette='coolwarm')\n",
    "ax.set_xticklabels(['postive','negative'])\n",
    "ax.legend_.remove()\n",
    "plt.show()"
   ]
  },
  {
   "cell_type": "markdown",
   "metadata": {},
   "source": [
    "# Base model using count vectorizer"
   ]
  },
  {
   "cell_type": "code",
   "execution_count": 20,
   "metadata": {},
   "outputs": [],
   "source": [
    "#split the data\n",
    "X = data['text']\n",
    "y = data['label']\n",
    "X_train, X_test, y_train, y_test = train_test_split(X, y, test_size=0.2, random_state=7,stratify=y)"
   ]
  },
  {
   "cell_type": "code",
   "execution_count": 21,
   "metadata": {},
   "outputs": [],
   "source": [
    "vect = CountVectorizer(stop_words='english',max_features = 50000)\n",
    "rf = RandomForestClassifier(n_estimators=250,random_state=7,max_depth=40,min_samples_split=10)\n",
    "\n",
    "pipe = Pipeline(\n",
    "    [('vectorizer',vect),\n",
    "     ('RandomForestClassifier',rf)]\n",
    "    )"
   ]
  },
  {
   "cell_type": "code",
   "execution_count": 22,
   "metadata": {},
   "outputs": [
    {
     "data": {
      "text/html": [
       "<style>#sk-container-id-1 {\n",
       "  /* Definition of color scheme common for light and dark mode */\n",
       "  --sklearn-color-text: #000;\n",
       "  --sklearn-color-text-muted: #666;\n",
       "  --sklearn-color-line: gray;\n",
       "  /* Definition of color scheme for unfitted estimators */\n",
       "  --sklearn-color-unfitted-level-0: #fff5e6;\n",
       "  --sklearn-color-unfitted-level-1: #f6e4d2;\n",
       "  --sklearn-color-unfitted-level-2: #ffe0b3;\n",
       "  --sklearn-color-unfitted-level-3: chocolate;\n",
       "  /* Definition of color scheme for fitted estimators */\n",
       "  --sklearn-color-fitted-level-0: #f0f8ff;\n",
       "  --sklearn-color-fitted-level-1: #d4ebff;\n",
       "  --sklearn-color-fitted-level-2: #b3dbfd;\n",
       "  --sklearn-color-fitted-level-3: cornflowerblue;\n",
       "\n",
       "  /* Specific color for light theme */\n",
       "  --sklearn-color-text-on-default-background: var(--sg-text-color, var(--theme-code-foreground, var(--jp-content-font-color1, black)));\n",
       "  --sklearn-color-background: var(--sg-background-color, var(--theme-background, var(--jp-layout-color0, white)));\n",
       "  --sklearn-color-border-box: var(--sg-text-color, var(--theme-code-foreground, var(--jp-content-font-color1, black)));\n",
       "  --sklearn-color-icon: #696969;\n",
       "\n",
       "  @media (prefers-color-scheme: dark) {\n",
       "    /* Redefinition of color scheme for dark theme */\n",
       "    --sklearn-color-text-on-default-background: var(--sg-text-color, var(--theme-code-foreground, var(--jp-content-font-color1, white)));\n",
       "    --sklearn-color-background: var(--sg-background-color, var(--theme-background, var(--jp-layout-color0, #111)));\n",
       "    --sklearn-color-border-box: var(--sg-text-color, var(--theme-code-foreground, var(--jp-content-font-color1, white)));\n",
       "    --sklearn-color-icon: #878787;\n",
       "  }\n",
       "}\n",
       "\n",
       "#sk-container-id-1 {\n",
       "  color: var(--sklearn-color-text);\n",
       "}\n",
       "\n",
       "#sk-container-id-1 pre {\n",
       "  padding: 0;\n",
       "}\n",
       "\n",
       "#sk-container-id-1 input.sk-hidden--visually {\n",
       "  border: 0;\n",
       "  clip: rect(1px 1px 1px 1px);\n",
       "  clip: rect(1px, 1px, 1px, 1px);\n",
       "  height: 1px;\n",
       "  margin: -1px;\n",
       "  overflow: hidden;\n",
       "  padding: 0;\n",
       "  position: absolute;\n",
       "  width: 1px;\n",
       "}\n",
       "\n",
       "#sk-container-id-1 div.sk-dashed-wrapped {\n",
       "  border: 1px dashed var(--sklearn-color-line);\n",
       "  margin: 0 0.4em 0.5em 0.4em;\n",
       "  box-sizing: border-box;\n",
       "  padding-bottom: 0.4em;\n",
       "  background-color: var(--sklearn-color-background);\n",
       "}\n",
       "\n",
       "#sk-container-id-1 div.sk-container {\n",
       "  /* jupyter's `normalize.less` sets `[hidden] { display: none; }`\n",
       "     but bootstrap.min.css set `[hidden] { display: none !important; }`\n",
       "     so we also need the `!important` here to be able to override the\n",
       "     default hidden behavior on the sphinx rendered scikit-learn.org.\n",
       "     See: https://github.com/scikit-learn/scikit-learn/issues/21755 */\n",
       "  display: inline-block !important;\n",
       "  position: relative;\n",
       "}\n",
       "\n",
       "#sk-container-id-1 div.sk-text-repr-fallback {\n",
       "  display: none;\n",
       "}\n",
       "\n",
       "div.sk-parallel-item,\n",
       "div.sk-serial,\n",
       "div.sk-item {\n",
       "  /* draw centered vertical line to link estimators */\n",
       "  background-image: linear-gradient(var(--sklearn-color-text-on-default-background), var(--sklearn-color-text-on-default-background));\n",
       "  background-size: 2px 100%;\n",
       "  background-repeat: no-repeat;\n",
       "  background-position: center center;\n",
       "}\n",
       "\n",
       "/* Parallel-specific style estimator block */\n",
       "\n",
       "#sk-container-id-1 div.sk-parallel-item::after {\n",
       "  content: \"\";\n",
       "  width: 100%;\n",
       "  border-bottom: 2px solid var(--sklearn-color-text-on-default-background);\n",
       "  flex-grow: 1;\n",
       "}\n",
       "\n",
       "#sk-container-id-1 div.sk-parallel {\n",
       "  display: flex;\n",
       "  align-items: stretch;\n",
       "  justify-content: center;\n",
       "  background-color: var(--sklearn-color-background);\n",
       "  position: relative;\n",
       "}\n",
       "\n",
       "#sk-container-id-1 div.sk-parallel-item {\n",
       "  display: flex;\n",
       "  flex-direction: column;\n",
       "}\n",
       "\n",
       "#sk-container-id-1 div.sk-parallel-item:first-child::after {\n",
       "  align-self: flex-end;\n",
       "  width: 50%;\n",
       "}\n",
       "\n",
       "#sk-container-id-1 div.sk-parallel-item:last-child::after {\n",
       "  align-self: flex-start;\n",
       "  width: 50%;\n",
       "}\n",
       "\n",
       "#sk-container-id-1 div.sk-parallel-item:only-child::after {\n",
       "  width: 0;\n",
       "}\n",
       "\n",
       "/* Serial-specific style estimator block */\n",
       "\n",
       "#sk-container-id-1 div.sk-serial {\n",
       "  display: flex;\n",
       "  flex-direction: column;\n",
       "  align-items: center;\n",
       "  background-color: var(--sklearn-color-background);\n",
       "  padding-right: 1em;\n",
       "  padding-left: 1em;\n",
       "}\n",
       "\n",
       "\n",
       "/* Toggleable style: style used for estimator/Pipeline/ColumnTransformer box that is\n",
       "clickable and can be expanded/collapsed.\n",
       "- Pipeline and ColumnTransformer use this feature and define the default style\n",
       "- Estimators will overwrite some part of the style using the `sk-estimator` class\n",
       "*/\n",
       "\n",
       "/* Pipeline and ColumnTransformer style (default) */\n",
       "\n",
       "#sk-container-id-1 div.sk-toggleable {\n",
       "  /* Default theme specific background. It is overwritten whether we have a\n",
       "  specific estimator or a Pipeline/ColumnTransformer */\n",
       "  background-color: var(--sklearn-color-background);\n",
       "}\n",
       "\n",
       "/* Toggleable label */\n",
       "#sk-container-id-1 label.sk-toggleable__label {\n",
       "  cursor: pointer;\n",
       "  display: flex;\n",
       "  width: 100%;\n",
       "  margin-bottom: 0;\n",
       "  padding: 0.5em;\n",
       "  box-sizing: border-box;\n",
       "  text-align: center;\n",
       "  align-items: start;\n",
       "  justify-content: space-between;\n",
       "  gap: 0.5em;\n",
       "}\n",
       "\n",
       "#sk-container-id-1 label.sk-toggleable__label .caption {\n",
       "  font-size: 0.6rem;\n",
       "  font-weight: lighter;\n",
       "  color: var(--sklearn-color-text-muted);\n",
       "}\n",
       "\n",
       "#sk-container-id-1 label.sk-toggleable__label-arrow:before {\n",
       "  /* Arrow on the left of the label */\n",
       "  content: \"▸\";\n",
       "  float: left;\n",
       "  margin-right: 0.25em;\n",
       "  color: var(--sklearn-color-icon);\n",
       "}\n",
       "\n",
       "#sk-container-id-1 label.sk-toggleable__label-arrow:hover:before {\n",
       "  color: var(--sklearn-color-text);\n",
       "}\n",
       "\n",
       "/* Toggleable content - dropdown */\n",
       "\n",
       "#sk-container-id-1 div.sk-toggleable__content {\n",
       "  max-height: 0;\n",
       "  max-width: 0;\n",
       "  overflow: hidden;\n",
       "  text-align: left;\n",
       "  /* unfitted */\n",
       "  background-color: var(--sklearn-color-unfitted-level-0);\n",
       "}\n",
       "\n",
       "#sk-container-id-1 div.sk-toggleable__content.fitted {\n",
       "  /* fitted */\n",
       "  background-color: var(--sklearn-color-fitted-level-0);\n",
       "}\n",
       "\n",
       "#sk-container-id-1 div.sk-toggleable__content pre {\n",
       "  margin: 0.2em;\n",
       "  border-radius: 0.25em;\n",
       "  color: var(--sklearn-color-text);\n",
       "  /* unfitted */\n",
       "  background-color: var(--sklearn-color-unfitted-level-0);\n",
       "}\n",
       "\n",
       "#sk-container-id-1 div.sk-toggleable__content.fitted pre {\n",
       "  /* unfitted */\n",
       "  background-color: var(--sklearn-color-fitted-level-0);\n",
       "}\n",
       "\n",
       "#sk-container-id-1 input.sk-toggleable__control:checked~div.sk-toggleable__content {\n",
       "  /* Expand drop-down */\n",
       "  max-height: 200px;\n",
       "  max-width: 100%;\n",
       "  overflow: auto;\n",
       "}\n",
       "\n",
       "#sk-container-id-1 input.sk-toggleable__control:checked~label.sk-toggleable__label-arrow:before {\n",
       "  content: \"▾\";\n",
       "}\n",
       "\n",
       "/* Pipeline/ColumnTransformer-specific style */\n",
       "\n",
       "#sk-container-id-1 div.sk-label input.sk-toggleable__control:checked~label.sk-toggleable__label {\n",
       "  color: var(--sklearn-color-text);\n",
       "  background-color: var(--sklearn-color-unfitted-level-2);\n",
       "}\n",
       "\n",
       "#sk-container-id-1 div.sk-label.fitted input.sk-toggleable__control:checked~label.sk-toggleable__label {\n",
       "  background-color: var(--sklearn-color-fitted-level-2);\n",
       "}\n",
       "\n",
       "/* Estimator-specific style */\n",
       "\n",
       "/* Colorize estimator box */\n",
       "#sk-container-id-1 div.sk-estimator input.sk-toggleable__control:checked~label.sk-toggleable__label {\n",
       "  /* unfitted */\n",
       "  background-color: var(--sklearn-color-unfitted-level-2);\n",
       "}\n",
       "\n",
       "#sk-container-id-1 div.sk-estimator.fitted input.sk-toggleable__control:checked~label.sk-toggleable__label {\n",
       "  /* fitted */\n",
       "  background-color: var(--sklearn-color-fitted-level-2);\n",
       "}\n",
       "\n",
       "#sk-container-id-1 div.sk-label label.sk-toggleable__label,\n",
       "#sk-container-id-1 div.sk-label label {\n",
       "  /* The background is the default theme color */\n",
       "  color: var(--sklearn-color-text-on-default-background);\n",
       "}\n",
       "\n",
       "/* On hover, darken the color of the background */\n",
       "#sk-container-id-1 div.sk-label:hover label.sk-toggleable__label {\n",
       "  color: var(--sklearn-color-text);\n",
       "  background-color: var(--sklearn-color-unfitted-level-2);\n",
       "}\n",
       "\n",
       "/* Label box, darken color on hover, fitted */\n",
       "#sk-container-id-1 div.sk-label.fitted:hover label.sk-toggleable__label.fitted {\n",
       "  color: var(--sklearn-color-text);\n",
       "  background-color: var(--sklearn-color-fitted-level-2);\n",
       "}\n",
       "\n",
       "/* Estimator label */\n",
       "\n",
       "#sk-container-id-1 div.sk-label label {\n",
       "  font-family: monospace;\n",
       "  font-weight: bold;\n",
       "  display: inline-block;\n",
       "  line-height: 1.2em;\n",
       "}\n",
       "\n",
       "#sk-container-id-1 div.sk-label-container {\n",
       "  text-align: center;\n",
       "}\n",
       "\n",
       "/* Estimator-specific */\n",
       "#sk-container-id-1 div.sk-estimator {\n",
       "  font-family: monospace;\n",
       "  border: 1px dotted var(--sklearn-color-border-box);\n",
       "  border-radius: 0.25em;\n",
       "  box-sizing: border-box;\n",
       "  margin-bottom: 0.5em;\n",
       "  /* unfitted */\n",
       "  background-color: var(--sklearn-color-unfitted-level-0);\n",
       "}\n",
       "\n",
       "#sk-container-id-1 div.sk-estimator.fitted {\n",
       "  /* fitted */\n",
       "  background-color: var(--sklearn-color-fitted-level-0);\n",
       "}\n",
       "\n",
       "/* on hover */\n",
       "#sk-container-id-1 div.sk-estimator:hover {\n",
       "  /* unfitted */\n",
       "  background-color: var(--sklearn-color-unfitted-level-2);\n",
       "}\n",
       "\n",
       "#sk-container-id-1 div.sk-estimator.fitted:hover {\n",
       "  /* fitted */\n",
       "  background-color: var(--sklearn-color-fitted-level-2);\n",
       "}\n",
       "\n",
       "/* Specification for estimator info (e.g. \"i\" and \"?\") */\n",
       "\n",
       "/* Common style for \"i\" and \"?\" */\n",
       "\n",
       ".sk-estimator-doc-link,\n",
       "a:link.sk-estimator-doc-link,\n",
       "a:visited.sk-estimator-doc-link {\n",
       "  float: right;\n",
       "  font-size: smaller;\n",
       "  line-height: 1em;\n",
       "  font-family: monospace;\n",
       "  background-color: var(--sklearn-color-background);\n",
       "  border-radius: 1em;\n",
       "  height: 1em;\n",
       "  width: 1em;\n",
       "  text-decoration: none !important;\n",
       "  margin-left: 0.5em;\n",
       "  text-align: center;\n",
       "  /* unfitted */\n",
       "  border: var(--sklearn-color-unfitted-level-1) 1pt solid;\n",
       "  color: var(--sklearn-color-unfitted-level-1);\n",
       "}\n",
       "\n",
       ".sk-estimator-doc-link.fitted,\n",
       "a:link.sk-estimator-doc-link.fitted,\n",
       "a:visited.sk-estimator-doc-link.fitted {\n",
       "  /* fitted */\n",
       "  border: var(--sklearn-color-fitted-level-1) 1pt solid;\n",
       "  color: var(--sklearn-color-fitted-level-1);\n",
       "}\n",
       "\n",
       "/* On hover */\n",
       "div.sk-estimator:hover .sk-estimator-doc-link:hover,\n",
       ".sk-estimator-doc-link:hover,\n",
       "div.sk-label-container:hover .sk-estimator-doc-link:hover,\n",
       ".sk-estimator-doc-link:hover {\n",
       "  /* unfitted */\n",
       "  background-color: var(--sklearn-color-unfitted-level-3);\n",
       "  color: var(--sklearn-color-background);\n",
       "  text-decoration: none;\n",
       "}\n",
       "\n",
       "div.sk-estimator.fitted:hover .sk-estimator-doc-link.fitted:hover,\n",
       ".sk-estimator-doc-link.fitted:hover,\n",
       "div.sk-label-container:hover .sk-estimator-doc-link.fitted:hover,\n",
       ".sk-estimator-doc-link.fitted:hover {\n",
       "  /* fitted */\n",
       "  background-color: var(--sklearn-color-fitted-level-3);\n",
       "  color: var(--sklearn-color-background);\n",
       "  text-decoration: none;\n",
       "}\n",
       "\n",
       "/* Span, style for the box shown on hovering the info icon */\n",
       ".sk-estimator-doc-link span {\n",
       "  display: none;\n",
       "  z-index: 9999;\n",
       "  position: relative;\n",
       "  font-weight: normal;\n",
       "  right: .2ex;\n",
       "  padding: .5ex;\n",
       "  margin: .5ex;\n",
       "  width: min-content;\n",
       "  min-width: 20ex;\n",
       "  max-width: 50ex;\n",
       "  color: var(--sklearn-color-text);\n",
       "  box-shadow: 2pt 2pt 4pt #999;\n",
       "  /* unfitted */\n",
       "  background: var(--sklearn-color-unfitted-level-0);\n",
       "  border: .5pt solid var(--sklearn-color-unfitted-level-3);\n",
       "}\n",
       "\n",
       ".sk-estimator-doc-link.fitted span {\n",
       "  /* fitted */\n",
       "  background: var(--sklearn-color-fitted-level-0);\n",
       "  border: var(--sklearn-color-fitted-level-3);\n",
       "}\n",
       "\n",
       ".sk-estimator-doc-link:hover span {\n",
       "  display: block;\n",
       "}\n",
       "\n",
       "/* \"?\"-specific style due to the `<a>` HTML tag */\n",
       "\n",
       "#sk-container-id-1 a.estimator_doc_link {\n",
       "  float: right;\n",
       "  font-size: 1rem;\n",
       "  line-height: 1em;\n",
       "  font-family: monospace;\n",
       "  background-color: var(--sklearn-color-background);\n",
       "  border-radius: 1rem;\n",
       "  height: 1rem;\n",
       "  width: 1rem;\n",
       "  text-decoration: none;\n",
       "  /* unfitted */\n",
       "  color: var(--sklearn-color-unfitted-level-1);\n",
       "  border: var(--sklearn-color-unfitted-level-1) 1pt solid;\n",
       "}\n",
       "\n",
       "#sk-container-id-1 a.estimator_doc_link.fitted {\n",
       "  /* fitted */\n",
       "  border: var(--sklearn-color-fitted-level-1) 1pt solid;\n",
       "  color: var(--sklearn-color-fitted-level-1);\n",
       "}\n",
       "\n",
       "/* On hover */\n",
       "#sk-container-id-1 a.estimator_doc_link:hover {\n",
       "  /* unfitted */\n",
       "  background-color: var(--sklearn-color-unfitted-level-3);\n",
       "  color: var(--sklearn-color-background);\n",
       "  text-decoration: none;\n",
       "}\n",
       "\n",
       "#sk-container-id-1 a.estimator_doc_link.fitted:hover {\n",
       "  /* fitted */\n",
       "  background-color: var(--sklearn-color-fitted-level-3);\n",
       "}\n",
       "</style><div id=\"sk-container-id-1\" class=\"sk-top-container\"><div class=\"sk-text-repr-fallback\"><pre>Pipeline(steps=[(&#x27;vectorizer&#x27;,\n",
       "                 CountVectorizer(max_features=50000, stop_words=&#x27;english&#x27;)),\n",
       "                (&#x27;RandomForestClassifier&#x27;,\n",
       "                 RandomForestClassifier(max_depth=40, min_samples_split=10,\n",
       "                                        n_estimators=250, random_state=7))])</pre><b>In a Jupyter environment, please rerun this cell to show the HTML representation or trust the notebook. <br />On GitHub, the HTML representation is unable to render, please try loading this page with nbviewer.org.</b></div><div class=\"sk-container\" hidden><div class=\"sk-item sk-dashed-wrapped\"><div class=\"sk-label-container\"><div class=\"sk-label fitted sk-toggleable\"><input class=\"sk-toggleable__control sk-hidden--visually\" id=\"sk-estimator-id-1\" type=\"checkbox\" ><label for=\"sk-estimator-id-1\" class=\"sk-toggleable__label fitted sk-toggleable__label-arrow\"><div><div>Pipeline</div></div><div><a class=\"sk-estimator-doc-link fitted\" rel=\"noreferrer\" target=\"_blank\" href=\"https://scikit-learn.org/1.6/modules/generated/sklearn.pipeline.Pipeline.html\">?<span>Documentation for Pipeline</span></a><span class=\"sk-estimator-doc-link fitted\">i<span>Fitted</span></span></div></label><div class=\"sk-toggleable__content fitted\"><pre>Pipeline(steps=[(&#x27;vectorizer&#x27;,\n",
       "                 CountVectorizer(max_features=50000, stop_words=&#x27;english&#x27;)),\n",
       "                (&#x27;RandomForestClassifier&#x27;,\n",
       "                 RandomForestClassifier(max_depth=40, min_samples_split=10,\n",
       "                                        n_estimators=250, random_state=7))])</pre></div> </div></div><div class=\"sk-serial\"><div class=\"sk-item\"><div class=\"sk-estimator fitted sk-toggleable\"><input class=\"sk-toggleable__control sk-hidden--visually\" id=\"sk-estimator-id-2\" type=\"checkbox\" ><label for=\"sk-estimator-id-2\" class=\"sk-toggleable__label fitted sk-toggleable__label-arrow\"><div><div>CountVectorizer</div></div><div><a class=\"sk-estimator-doc-link fitted\" rel=\"noreferrer\" target=\"_blank\" href=\"https://scikit-learn.org/1.6/modules/generated/sklearn.feature_extraction.text.CountVectorizer.html\">?<span>Documentation for CountVectorizer</span></a></div></label><div class=\"sk-toggleable__content fitted\"><pre>CountVectorizer(max_features=50000, stop_words=&#x27;english&#x27;)</pre></div> </div></div><div class=\"sk-item\"><div class=\"sk-estimator fitted sk-toggleable\"><input class=\"sk-toggleable__control sk-hidden--visually\" id=\"sk-estimator-id-3\" type=\"checkbox\" ><label for=\"sk-estimator-id-3\" class=\"sk-toggleable__label fitted sk-toggleable__label-arrow\"><div><div>RandomForestClassifier</div></div><div><a class=\"sk-estimator-doc-link fitted\" rel=\"noreferrer\" target=\"_blank\" href=\"https://scikit-learn.org/1.6/modules/generated/sklearn.ensemble.RandomForestClassifier.html\">?<span>Documentation for RandomForestClassifier</span></a></div></label><div class=\"sk-toggleable__content fitted\"><pre>RandomForestClassifier(max_depth=40, min_samples_split=10, n_estimators=250,\n",
       "                       random_state=7)</pre></div> </div></div></div></div></div></div>"
      ],
      "text/plain": [
       "Pipeline(steps=[('vectorizer',\n",
       "                 CountVectorizer(max_features=50000, stop_words='english')),\n",
       "                ('RandomForestClassifier',\n",
       "                 RandomForestClassifier(max_depth=40, min_samples_split=10,\n",
       "                                        n_estimators=250, random_state=7))])"
      ]
     },
     "execution_count": 22,
     "metadata": {},
     "output_type": "execute_result"
    }
   ],
   "source": [
    "pipe.fit(X_train,y_train)"
   ]
  },
  {
   "cell_type": "code",
   "execution_count": 23,
   "metadata": {},
   "outputs": [
    {
     "data": {
      "text/plain": [
       "0.8595342983008182"
      ]
     },
     "execution_count": 23,
     "metadata": {},
     "output_type": "execute_result"
    }
   ],
   "source": [
    "#evaluate the model\n",
    "y_pred = pipe.predict(X_test)\n",
    "accuracy_score(y_test,y_pred)"
   ]
  },
  {
   "cell_type": "code",
   "execution_count": 24,
   "metadata": {},
   "outputs": [
    {
     "name": "stdout",
     "output_type": "stream",
     "text": [
      "              precision    recall  f1-score   support\n",
      "\n",
      "           0       0.87      0.84      0.86      3963\n",
      "           1       0.85      0.88      0.86      3982\n",
      "\n",
      "    accuracy                           0.86      7945\n",
      "   macro avg       0.86      0.86      0.86      7945\n",
      "weighted avg       0.86      0.86      0.86      7945\n",
      "\n"
     ]
    }
   ],
   "source": [
    "#classification report\n",
    "print(classification_report(y_test,y_pred))"
   ]
  },
  {
   "cell_type": "code",
   "execution_count": 25,
   "metadata": {},
   "outputs": [
    {
     "data": {
      "image/png": "[encoded data removed]",
      "text/plain": [
       "<Figure size 1000x700 with 2 Axes>"
      ]
     },
     "metadata": {},
     "output_type": "display_data"
    }
   ],
   "source": [
    "#plotting confusion matrix\n",
    "cm = confusion_matrix(y_test,y_pred)\n",
    "plt.figure(figsize=(10,7))\n",
    "sns.heatmap(cm,annot=True,fmt='.2f',cmap='Blues')\n",
    "plt.show()"
   ]
  },
  {
   "cell_type": "markdown",
   "metadata": {},
   "source": [
    "# Model with Tf-IDF vectorizer"
   ]
  },
  {
   "cell_type": "code",
   "execution_count": 81,
   "metadata": {},
   "outputs": [],
   "source": [
    "vect = TfidfVectorizer(max_features=50000,min_df=0.1,max_df=0.9,analyzer='char_wb',ngram_range=(3,5))\n",
    "rf = RandomForestClassifier(n_estimators=101,random_state=7,min_samples_split=10,max_depth = 20)\n",
    "\n",
    "pipe = Pipeline(\n",
    "    [('vectorizer',vect),\n",
    "     ('RandomForestClassifier',rf)]\n",
    "    )"
   ]
  },
  {
   "cell_type": "code",
   "execution_count": 82,
   "metadata": {},
   "outputs": [
    {
     "data": {
      "text/html": [
       "<style>#sk-container-id-10 {\n",
       "  /* Definition of color scheme common for light and dark mode */\n",
       "  --sklearn-color-text: #000;\n",
       "  --sklearn-color-text-muted: #666;\n",
       "  --sklearn-color-line: gray;\n",
       "  /* Definition of color scheme for unfitted estimators */\n",
       "  --sklearn-color-unfitted-level-0: #fff5e6;\n",
       "  --sklearn-color-unfitted-level-1: #f6e4d2;\n",
       "  --sklearn-color-unfitted-level-2: #ffe0b3;\n",
       "  --sklearn-color-unfitted-level-3: chocolate;\n",
       "  /* Definition of color scheme for fitted estimators */\n",
       "  --sklearn-color-fitted-level-0: #f0f8ff;\n",
       "  --sklearn-color-fitted-level-1: #d4ebff;\n",
       "  --sklearn-color-fitted-level-2: #b3dbfd;\n",
       "  --sklearn-color-fitted-level-3: cornflowerblue;\n",
       "\n",
       "  /* Specific color for light theme */\n",
       "  --sklearn-color-text-on-default-background: var(--sg-text-color, var(--theme-code-foreground, var(--jp-content-font-color1, black)));\n",
       "  --sklearn-color-background: var(--sg-background-color, var(--theme-background, var(--jp-layout-color0, white)));\n",
       "  --sklearn-color-border-box: var(--sg-text-color, var(--theme-code-foreground, var(--jp-content-font-color1, black)));\n",
       "  --sklearn-color-icon: #696969;\n",
       "\n",
       "  @media (prefers-color-scheme: dark) {\n",
       "    /* Redefinition of color scheme for dark theme */\n",
       "    --sklearn-color-text-on-default-background: var(--sg-text-color, var(--theme-code-foreground, var(--jp-content-font-color1, white)));\n",
       "    --sklearn-color-background: var(--sg-background-color, var(--theme-background, var(--jp-layout-color0, #111)));\n",
       "    --sklearn-color-border-box: var(--sg-text-color, var(--theme-code-foreground, var(--jp-content-font-color1, white)));\n",
       "    --sklearn-color-icon: #878787;\n",
       "  }\n",
       "}\n",
       "\n",
       "#sk-container-id-10 {\n",
       "  color: var(--sklearn-color-text);\n",
       "}\n",
       "\n",
       "#sk-container-id-10 pre {\n",
       "  padding: 0;\n",
       "}\n",
       "\n",
       "#sk-container-id-10 input.sk-hidden--visually {\n",
       "  border: 0;\n",
       "  clip: rect(1px 1px 1px 1px);\n",
       "  clip: rect(1px, 1px, 1px, 1px);\n",
       "  height: 1px;\n",
       "  margin: -1px;\n",
       "  overflow: hidden;\n",
       "  padding: 0;\n",
       "  position: absolute;\n",
       "  width: 1px;\n",
       "}\n",
       "\n",
       "#sk-container-id-10 div.sk-dashed-wrapped {\n",
       "  border: 1px dashed var(--sklearn-color-line);\n",
       "  margin: 0 0.4em 0.5em 0.4em;\n",
       "  box-sizing: border-box;\n",
       "  padding-bottom: 0.4em;\n",
       "  background-color: var(--sklearn-color-background);\n",
       "}\n",
       "\n",
       "#sk-container-id-10 div.sk-container {\n",
       "  /* jupyter's `normalize.less` sets `[hidden] { display: none; }`\n",
       "     but bootstrap.min.css set `[hidden] { display: none !important; }`\n",
       "     so we also need the `!important` here to be able to override the\n",
       "     default hidden behavior on the sphinx rendered scikit-learn.org.\n",
       "     See: https://github.com/scikit-learn/scikit-learn/issues/21755 */\n",
       "  display: inline-block !important;\n",
       "  position: relative;\n",
       "}\n",
       "\n",
       "#sk-container-id-10 div.sk-text-repr-fallback {\n",
       "  display: none;\n",
       "}\n",
       "\n",
       "div.sk-parallel-item,\n",
       "div.sk-serial,\n",
       "div.sk-item {\n",
       "  /* draw centered vertical line to link estimators */\n",
       "  background-image: linear-gradient(var(--sklearn-color-text-on-default-background), var(--sklearn-color-text-on-default-background));\n",
       "  background-size: 2px 100%;\n",
       "  background-repeat: no-repeat;\n",
       "  background-position: center center;\n",
       "}\n",
       "\n",
       "/* Parallel-specific style estimator block */\n",
       "\n",
       "#sk-container-id-10 div.sk-parallel-item::after {\n",
       "  content: \"\";\n",
       "  width: 100%;\n",
       "  border-bottom: 2px solid var(--sklearn-color-text-on-default-background);\n",
       "  flex-grow: 1;\n",
       "}\n",
       "\n",
       "#sk-container-id-10 div.sk-parallel {\n",
       "  display: flex;\n",
       "  align-items: stretch;\n",
       "  justify-content: center;\n",
       "  background-color: var(--sklearn-color-background);\n",
       "  position: relative;\n",
       "}\n",
       "\n",
       "#sk-container-id-10 div.sk-parallel-item {\n",
       "  display: flex;\n",
       "  flex-direction: column;\n",
       "}\n",
       "\n",
       "#sk-container-id-10 div.sk-parallel-item:first-child::after {\n",
       "  align-self: flex-end;\n",
       "  width: 50%;\n",
       "}\n",
       "\n",
       "#sk-container-id-10 div.sk-parallel-item:last-child::after {\n",
       "  align-self: flex-start;\n",
       "  width: 50%;\n",
       "}\n",
       "\n",
       "#sk-container-id-10 div.sk-parallel-item:only-child::after {\n",
       "  width: 0;\n",
       "}\n",
       "\n",
       "/* Serial-specific style estimator block */\n",
       "\n",
       "#sk-container-id-10 div.sk-serial {\n",
       "  display: flex;\n",
       "  flex-direction: column;\n",
       "  align-items: center;\n",
       "  background-color: var(--sklearn-color-background);\n",
       "  padding-right: 1em;\n",
       "  padding-left: 1em;\n",
       "}\n",
       "\n",
       "\n",
       "/* Toggleable style: style used for estimator/Pipeline/ColumnTransformer box that is\n",
       "clickable and can be expanded/collapsed.\n",
       "- Pipeline and ColumnTransformer use this feature and define the default style\n",
       "- Estimators will overwrite some part of the style using the `sk-estimator` class\n",
       "*/\n",
       "\n",
       "/* Pipeline and ColumnTransformer style (default) */\n",
       "\n",
       "#sk-container-id-10 div.sk-toggleable {\n",
       "  /* Default theme specific background. It is overwritten whether we have a\n",
       "  specific estimator or a Pipeline/ColumnTransformer */\n",
       "  background-color: var(--sklearn-color-background);\n",
       "}\n",
       "\n",
       "/* Toggleable label */\n",
       "#sk-container-id-10 label.sk-toggleable__label {\n",
       "  cursor: pointer;\n",
       "  display: flex;\n",
       "  width: 100%;\n",
       "  margin-bottom: 0;\n",
       "  padding: 0.5em;\n",
       "  box-sizing: border-box;\n",
       "  text-align: center;\n",
       "  align-items: start;\n",
       "  justify-content: space-between;\n",
       "  gap: 0.5em;\n",
       "}\n",
       "\n",
       "#sk-container-id-10 label.sk-toggleable__label .caption {\n",
       "  font-size: 0.6rem;\n",
       "  font-weight: lighter;\n",
       "  color: var(--sklearn-color-text-muted);\n",
       "}\n",
       "\n",
       "#sk-container-id-10 label.sk-toggleable__label-arrow:before {\n",
       "  /* Arrow on the left of the label */\n",
       "  content: \"▸\";\n",
       "  float: left;\n",
       "  margin-right: 0.25em;\n",
       "  color: var(--sklearn-color-icon);\n",
       "}\n",
       "\n",
       "#sk-container-id-10 label.sk-toggleable__label-arrow:hover:before {\n",
       "  color: var(--sklearn-color-text);\n",
       "}\n",
       "\n",
       "/* Toggleable content - dropdown */\n",
       "\n",
       "#sk-container-id-10 div.sk-toggleable__content {\n",
       "  max-height: 0;\n",
       "  max-width: 0;\n",
       "  overflow: hidden;\n",
       "  text-align: left;\n",
       "  /* unfitted */\n",
       "  background-color: var(--sklearn-color-unfitted-level-0);\n",
       "}\n",
       "\n",
       "#sk-container-id-10 div.sk-toggleable__content.fitted {\n",
       "  /* fitted */\n",
       "  background-color: var(--sklearn-color-fitted-level-0);\n",
       "}\n",
       "\n",
       "#sk-container-id-10 div.sk-toggleable__content pre {\n",
       "  margin: 0.2em;\n",
       "  border-radius: 0.25em;\n",
       "  color: var(--sklearn-color-text);\n",
       "  /* unfitted */\n",
       "  background-color: var(--sklearn-color-unfitted-level-0);\n",
       "}\n",
       "\n",
       "#sk-container-id-10 div.sk-toggleable__content.fitted pre {\n",
       "  /* unfitted */\n",
       "  background-color: var(--sklearn-color-fitted-level-0);\n",
       "}\n",
       "\n",
       "#sk-container-id-10 input.sk-toggleable__control:checked~div.sk-toggleable__content {\n",
       "  /* Expand drop-down */\n",
       "  max-height: 200px;\n",
       "  max-width: 100%;\n",
       "  overflow: auto;\n",
       "}\n",
       "\n",
       "#sk-container-id-10 input.sk-toggleable__control:checked~label.sk-toggleable__label-arrow:before {\n",
       "  content: \"▾\";\n",
       "}\n",
       "\n",
       "/* Pipeline/ColumnTransformer-specific style */\n",
       "\n",
       "#sk-container-id-10 div.sk-label input.sk-toggleable__control:checked~label.sk-toggleable__label {\n",
       "  color: var(--sklearn-color-text);\n",
       "  background-color: var(--sklearn-color-unfitted-level-2);\n",
       "}\n",
       "\n",
       "#sk-container-id-10 div.sk-label.fitted input.sk-toggleable__control:checked~label.sk-toggleable__label {\n",
       "  background-color: var(--sklearn-color-fitted-level-2);\n",
       "}\n",
       "\n",
       "/* Estimator-specific style */\n",
       "\n",
       "/* Colorize estimator box */\n",
       "#sk-container-id-10 div.sk-estimator input.sk-toggleable__control:checked~label.sk-toggleable__label {\n",
       "  /* unfitted */\n",
       "  background-color: var(--sklearn-color-unfitted-level-2);\n",
       "}\n",
       "\n",
       "#sk-container-id-10 div.sk-estimator.fitted input.sk-toggleable__control:checked~label.sk-toggleable__label {\n",
       "  /* fitted */\n",
       "  background-color: var(--sklearn-color-fitted-level-2);\n",
       "}\n",
       "\n",
       "#sk-container-id-10 div.sk-label label.sk-toggleable__label,\n",
       "#sk-container-id-10 div.sk-label label {\n",
       "  /* The background is the default theme color */\n",
       "  color: var(--sklearn-color-text-on-default-background);\n",
       "}\n",
       "\n",
       "/* On hover, darken the color of the background */\n",
       "#sk-container-id-10 div.sk-label:hover label.sk-toggleable__label {\n",
       "  color: var(--sklearn-color-text);\n",
       "  background-color: var(--sklearn-color-unfitted-level-2);\n",
       "}\n",
       "\n",
       "/* Label box, darken color on hover, fitted */\n",
       "#sk-container-id-10 div.sk-label.fitted:hover label.sk-toggleable__label.fitted {\n",
       "  color: var(--sklearn-color-text);\n",
       "  background-color: var(--sklearn-color-fitted-level-2);\n",
       "}\n",
       "\n",
       "/* Estimator label */\n",
       "\n",
       "#sk-container-id-10 div.sk-label label {\n",
       "  font-family: monospace;\n",
       "  font-weight: bold;\n",
       "  display: inline-block;\n",
       "  line-height: 1.2em;\n",
       "}\n",
       "\n",
       "#sk-container-id-10 div.sk-label-container {\n",
       "  text-align: center;\n",
       "}\n",
       "\n",
       "/* Estimator-specific */\n",
       "#sk-container-id-10 div.sk-estimator {\n",
       "  font-family: monospace;\n",
       "  border: 1px dotted var(--sklearn-color-border-box);\n",
       "  border-radius: 0.25em;\n",
       "  box-sizing: border-box;\n",
       "  margin-bottom: 0.5em;\n",
       "  /* unfitted */\n",
       "  background-color: var(--sklearn-color-unfitted-level-0);\n",
       "}\n",
       "\n",
       "#sk-container-id-10 div.sk-estimator.fitted {\n",
       "  /* fitted */\n",
       "  background-color: var(--sklearn-color-fitted-level-0);\n",
       "}\n",
       "\n",
       "/* on hover */\n",
       "#sk-container-id-10 div.sk-estimator:hover {\n",
       "  /* unfitted */\n",
       "  background-color: var(--sklearn-color-unfitted-level-2);\n",
       "}\n",
       "\n",
       "#sk-container-id-10 div.sk-estimator.fitted:hover {\n",
       "  /* fitted */\n",
       "  background-color: var(--sklearn-color-fitted-level-2);\n",
       "}\n",
       "\n",
       "/* Specification for estimator info (e.g. \"i\" and \"?\") */\n",
       "\n",
       "/* Common style for \"i\" and \"?\" */\n",
       "\n",
       ".sk-estimator-doc-link,\n",
       "a:link.sk-estimator-doc-link,\n",
       "a:visited.sk-estimator-doc-link {\n",
       "  float: right;\n",
       "  font-size: smaller;\n",
       "  line-height: 1em;\n",
       "  font-family: monospace;\n",
       "  background-color: var(--sklearn-color-background);\n",
       "  border-radius: 1em;\n",
       "  height: 1em;\n",
       "  width: 1em;\n",
       "  text-decoration: none !important;\n",
       "  margin-left: 0.5em;\n",
       "  text-align: center;\n",
       "  /* unfitted */\n",
       "  border: var(--sklearn-color-unfitted-level-1) 1pt solid;\n",
       "  color: var(--sklearn-color-unfitted-level-1);\n",
       "}\n",
       "\n",
       ".sk-estimator-doc-link.fitted,\n",
       "a:link.sk-estimator-doc-link.fitted,\n",
       "a:visited.sk-estimator-doc-link.fitted {\n",
       "  /* fitted */\n",
       "  border: var(--sklearn-color-fitted-level-1) 1pt solid;\n",
       "  color: var(--sklearn-color-fitted-level-1);\n",
       "}\n",
       "\n",
       "/* On hover */\n",
       "div.sk-estimator:hover .sk-estimator-doc-link:hover,\n",
       ".sk-estimator-doc-link:hover,\n",
       "div.sk-label-container:hover .sk-estimator-doc-link:hover,\n",
       ".sk-estimator-doc-link:hover {\n",
       "  /* unfitted */\n",
       "  background-color: var(--sklearn-color-unfitted-level-3);\n",
       "  color: var(--sklearn-color-background);\n",
       "  text-decoration: none;\n",
       "}\n",
       "\n",
       "div.sk-estimator.fitted:hover .sk-estimator-doc-link.fitted:hover,\n",
       ".sk-estimator-doc-link.fitted:hover,\n",
       "div.sk-label-container:hover .sk-estimator-doc-link.fitted:hover,\n",
       ".sk-estimator-doc-link.fitted:hover {\n",
       "  /* fitted */\n",
       "  background-color: var(--sklearn-color-fitted-level-3);\n",
       "  color: var(--sklearn-color-background);\n",
       "  text-decoration: none;\n",
       "}\n",
       "\n",
       "/* Span, style for the box shown on hovering the info icon */\n",
       ".sk-estimator-doc-link span {\n",
       "  display: none;\n",
       "  z-index: 9999;\n",
       "  position: relative;\n",
       "  font-weight: normal;\n",
       "  right: .2ex;\n",
       "  padding: .5ex;\n",
       "  margin: .5ex;\n",
       "  width: min-content;\n",
       "  min-width: 20ex;\n",
       "  max-width: 50ex;\n",
       "  color: var(--sklearn-color-text);\n",
       "  box-shadow: 2pt 2pt 4pt #999;\n",
       "  /* unfitted */\n",
       "  background: var(--sklearn-color-unfitted-level-0);\n",
       "  border: .5pt solid var(--sklearn-color-unfitted-level-3);\n",
       "}\n",
       "\n",
       ".sk-estimator-doc-link.fitted span {\n",
       "  /* fitted */\n",
       "  background: var(--sklearn-color-fitted-level-0);\n",
       "  border: var(--sklearn-color-fitted-level-3);\n",
       "}\n",
       "\n",
       ".sk-estimator-doc-link:hover span {\n",
       "  display: block;\n",
       "}\n",
       "\n",
       "/* \"?\"-specific style due to the `<a>` HTML tag */\n",
       "\n",
       "#sk-container-id-10 a.estimator_doc_link {\n",
       "  float: right;\n",
       "  font-size: 1rem;\n",
       "  line-height: 1em;\n",
       "  font-family: monospace;\n",
       "  background-color: var(--sklearn-color-background);\n",
       "  border-radius: 1rem;\n",
       "  height: 1rem;\n",
       "  width: 1rem;\n",
       "  text-decoration: none;\n",
       "  /* unfitted */\n",
       "  color: var(--sklearn-color-unfitted-level-1);\n",
       "  border: var(--sklearn-color-unfitted-level-1) 1pt solid;\n",
       "}\n",
       "\n",
       "#sk-container-id-10 a.estimator_doc_link.fitted {\n",
       "  /* fitted */\n",
       "  border: var(--sklearn-color-fitted-level-1) 1pt solid;\n",
       "  color: var(--sklearn-color-fitted-level-1);\n",
       "}\n",
       "\n",
       "/* On hover */\n",
       "#sk-container-id-10 a.estimator_doc_link:hover {\n",
       "  /* unfitted */\n",
       "  background-color: var(--sklearn-color-unfitted-level-3);\n",
       "  color: var(--sklearn-color-background);\n",
       "  text-decoration: none;\n",
       "}\n",
       "\n",
       "#sk-container-id-10 a.estimator_doc_link.fitted:hover {\n",
       "  /* fitted */\n",
       "  background-color: var(--sklearn-color-fitted-level-3);\n",
       "}\n",
       "</style><div id=\"sk-container-id-10\" class=\"sk-top-container\"><div class=\"sk-text-repr-fallback\"><pre>Pipeline(steps=[(&#x27;vectorizer&#x27;,\n",
       "                 TfidfVectorizer(analyzer=&#x27;char_wb&#x27;, max_df=0.9,\n",
       "                                 max_features=50000, min_df=0.1,\n",
       "                                 ngram_range=(3, 5))),\n",
       "                (&#x27;RandomForestClassifier&#x27;,\n",
       "                 RandomForestClassifier(max_depth=20, min_samples_split=10,\n",
       "                                        n_estimators=101, random_state=7))])</pre><b>In a Jupyter environment, please rerun this cell to show the HTML representation or trust the notebook. <br />On GitHub, the HTML representation is unable to render, please try loading this page with nbviewer.org.</b></div><div class=\"sk-container\" hidden><div class=\"sk-item sk-dashed-wrapped\"><div class=\"sk-label-container\"><div class=\"sk-label fitted sk-toggleable\"><input class=\"sk-toggleable__control sk-hidden--visually\" id=\"sk-estimator-id-28\" type=\"checkbox\" ><label for=\"sk-estimator-id-28\" class=\"sk-toggleable__label fitted sk-toggleable__label-arrow\"><div><div>Pipeline</div></div><div><a class=\"sk-estimator-doc-link fitted\" rel=\"noreferrer\" target=\"_blank\" href=\"https://scikit-learn.org/1.6/modules/generated/sklearn.pipeline.Pipeline.html\">?<span>Documentation for Pipeline</span></a><span class=\"sk-estimator-doc-link fitted\">i<span>Fitted</span></span></div></label><div class=\"sk-toggleable__content fitted\"><pre>Pipeline(steps=[(&#x27;vectorizer&#x27;,\n",
       "                 TfidfVectorizer(analyzer=&#x27;char_wb&#x27;, max_df=0.9,\n",
       "                                 max_features=50000, min_df=0.1,\n",
       "                                 ngram_range=(3, 5))),\n",
       "                (&#x27;RandomForestClassifier&#x27;,\n",
       "                 RandomForestClassifier(max_depth=20, min_samples_split=10,\n",
       "                                        n_estimators=101, random_state=7))])</pre></div> </div></div><div class=\"sk-serial\"><div class=\"sk-item\"><div class=\"sk-estimator fitted sk-toggleable\"><input class=\"sk-toggleable__control sk-hidden--visually\" id=\"sk-estimator-id-29\" type=\"checkbox\" ><label for=\"sk-estimator-id-29\" class=\"sk-toggleable__label fitted sk-toggleable__label-arrow\"><div><div>TfidfVectorizer</div></div><div><a class=\"sk-estimator-doc-link fitted\" rel=\"noreferrer\" target=\"_blank\" href=\"https://scikit-learn.org/1.6/modules/generated/sklearn.feature_extraction.text.TfidfVectorizer.html\">?<span>Documentation for TfidfVectorizer</span></a></div></label><div class=\"sk-toggleable__content fitted\"><pre>TfidfVectorizer(analyzer=&#x27;char_wb&#x27;, max_df=0.9, max_features=50000, min_df=0.1,\n",
       "                ngram_range=(3, 5))</pre></div> </div></div><div class=\"sk-item\"><div class=\"sk-estimator fitted sk-toggleable\"><input class=\"sk-toggleable__control sk-hidden--visually\" id=\"sk-estimator-id-30\" type=\"checkbox\" ><label for=\"sk-estimator-id-30\" class=\"sk-toggleable__label fitted sk-toggleable__label-arrow\"><div><div>RandomForestClassifier</div></div><div><a class=\"sk-estimator-doc-link fitted\" rel=\"noreferrer\" target=\"_blank\" href=\"https://scikit-learn.org/1.6/modules/generated/sklearn.ensemble.RandomForestClassifier.html\">?<span>Documentation for RandomForestClassifier</span></a></div></label><div class=\"sk-toggleable__content fitted\"><pre>RandomForestClassifier(max_depth=20, min_samples_split=10, n_estimators=101,\n",
       "                       random_state=7)</pre></div> </div></div></div></div></div></div>"
      ],
      "text/plain": [
       "Pipeline(steps=[('vectorizer',\n",
       "                 TfidfVectorizer(analyzer='char_wb', max_df=0.9,\n",
       "                                 max_features=50000, min_df=0.1,\n",
       "                                 ngram_range=(3, 5))),\n",
       "                ('RandomForestClassifier',\n",
       "                 RandomForestClassifier(max_depth=20, min_samples_split=10,\n",
       "                                        n_estimators=101, random_state=7))])"
      ]
     },
     "execution_count": 82,
     "metadata": {},
     "output_type": "execute_result"
    }
   ],
   "source": [
    "pipe.fit(X_train,y_train)"
   ]
  },
  {
   "cell_type": "code",
   "execution_count": 83,
   "metadata": {},
   "outputs": [
    {
     "data": {
      "text/plain": [
       "0.7913152926368785"
      ]
     },
     "execution_count": 83,
     "metadata": {},
     "output_type": "execute_result"
    }
   ],
   "source": [
    "#evaluate the model\n",
    "y_pred = pipe.predict(X_test)\n",
    "accuracy_score(y_test,y_pred)"
   ]
  },
  {
   "cell_type": "code",
   "execution_count": 84,
   "metadata": {},
   "outputs": [
    {
     "name": "stdout",
     "output_type": "stream",
     "text": [
      "              precision    recall  f1-score   support\n",
      "\n",
      "           0       0.80      0.77      0.79      3963\n",
      "           1       0.78      0.81      0.80      3982\n",
      "\n",
      "    accuracy                           0.79      7945\n",
      "   macro avg       0.79      0.79      0.79      7945\n",
      "weighted avg       0.79      0.79      0.79      7945\n",
      "\n"
     ]
    }
   ],
   "source": [
    "#classification report\n",
    "print(classification_report(y_test,y_pred))"
   ]
  },
  {
   "cell_type": "code",
   "execution_count": 85,
   "metadata": {},
   "outputs": [
    {
     "data": {
      "image/png": "[encoded data removed]",
      "text/plain": [
       "<Figure size 1000x700 with 2 Axes>"
      ]
     },
     "metadata": {},
     "output_type": "display_data"
    }
   ],
   "source": [
    "#plotting confusion matrix\n",
    "cm = confusion_matrix(y_test,y_pred)\n",
    "plt.figure(figsize=(10,7))\n",
    "sns.heatmap(cm,annot=True,fmt='.2f',cmap='Blues')\n",
    "plt.show()"
   ]
  }
 ],
 "metadata": {
  "kernelspec": {
   "display_name": "AI_7",
   "language": "python",
   "name": "python3"
  },
  "language_info": {
   "codemirror_mode": {
    "name": "ipython",
    "version": 3
   },
   "file_extension": ".py",
   "mimetype": "text/x-python",
   "name": "python",
   "nbconvert_exporter": "python",
   "pygments_lexer": "ipython3",
   "version": "3.12.4"
  }
 },
 "nbformat": 4,
 "nbformat_minor": 2
}
